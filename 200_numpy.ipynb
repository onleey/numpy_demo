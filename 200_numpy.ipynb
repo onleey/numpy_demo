{
  "nbformat": 4,
  "nbformat_minor": 0,
  "metadata": {
    "colab": {
      "provenance": [],
      "authorship_tag": "ABX9TyP6vLcSTiulKV7F3Q/wRmkn",
      "include_colab_link": true
    },
    "kernelspec": {
      "name": "python3",
      "display_name": "Python 3"
    },
    "language_info": {
      "name": "python"
    }
  },
  "cells": [
    {
      "cell_type": "markdown",
      "metadata": {
        "id": "view-in-github",
        "colab_type": "text"
      },
      "source": [
        "<a href=\"https://colab.research.google.com/github/onleey/numpy_demo/blob/master/200_numpy.ipynb\" target=\"_parent\"><img src=\"https://colab.research.google.com/assets/colab-badge.svg\" alt=\"Open In Colab\"/></a>"
      ]
    },
    {
      "cell_type": "markdown",
      "source": [
        "# Numpy\n",
        "- NumPy는 Numerical Python의 줄임말로, 파이썬에서 산술 계산을 위한 가장 필수 패키지중 하나이다.\n",
        "- 과학 계산을 위한 대부분의 패키지는 NumPy의 배열 객체를 데이터 교환을 위한 공통 언어처럼 사용한다.\n",
        "- 효율적인 다차원 배열인 ndarray(n dimensional array)는 빠른 배열 계산과 유연한 브로드캐스팅 기능을 제공한다.\n",
        "- 반복문을 작성할 필요 없이 전체 데이터 배열을 빠르게 계산할 수 있는 표준 수학 함수이다.\n",
        "- 배열 데이터를 디스크에 쓰거나 읽을 수 있는 도구와 메모리에 적재된 파일을 다루는 도구이다.\n",
        "- 선형대수, 난수 생성기등에 사용된다.\n",
        "- C, C++, 포트란으로 작성한 코드를 연결할 수 있는 C API가 제공된다.\n",
        "\n",
        "\n",
        "공식문서 https://numpy.org/doc/stable/  \n",
        "numpy 100 문제 https://github.com/rougier/numpy-100"
      ],
      "metadata": {
        "id": "6G8-_G4aP0FV"
      }
    },
    {
      "cell_type": "markdown",
      "source": [
        "# 1. 데이터 생성"
      ],
      "metadata": {
        "id": "9kJRi-QeR-C4"
      }
    },
    {
      "cell_type": "code",
      "source": [
        "import numpy as np"
      ],
      "metadata": {
        "id": "Duj76zj9SBt7"
      },
      "execution_count": 1,
      "outputs": []
    },
    {
      "cell_type": "markdown",
      "source": [
        "np.zeros( ) 생성할 개수 삽입 . zero라 0이 값."
      ],
      "metadata": {
        "id": "lq4K1348TuQb"
      }
    },
    {
      "cell_type": "code",
      "source": [
        "a = np.zeros(3) #1차원 배열 생성 (벡터)\n",
        "a"
      ],
      "metadata": {
        "colab": {
          "base_uri": "https://localhost:8080/"
        },
        "id": "kQB-dAubSARs",
        "outputId": "403a445f-6b40-4a43-a5c9-66ad501faa14"
      },
      "execution_count": 2,
      "outputs": [
        {
          "output_type": "execute_result",
          "data": {
            "text/plain": [
              "array([0., 0., 0.])"
            ]
          },
          "metadata": {},
          "execution_count": 2
        }
      ]
    },
    {
      "cell_type": "code",
      "source": [
        "print(a)"
      ],
      "metadata": {
        "colab": {
          "base_uri": "https://localhost:8080/"
        },
        "id": "A42QjdGqSpPD",
        "outputId": "de8b19bc-5f75-49ff-859f-3e28a4e17848"
      },
      "execution_count": 3,
      "outputs": [
        {
          "output_type": "stream",
          "name": "stdout",
          "text": [
            "[0. 0. 0.]\n"
          ]
        }
      ]
    },
    {
      "cell_type": "code",
      "source": [
        "print(dir(a))"
      ],
      "metadata": {
        "colab": {
          "base_uri": "https://localhost:8080/"
        },
        "id": "fdG0B-pvSxYj",
        "outputId": "c27a8305-7a80-4d71-fd6f-0b78664cebfd"
      },
      "execution_count": 4,
      "outputs": [
        {
          "output_type": "stream",
          "name": "stdout",
          "text": [
            "['T', '__abs__', '__add__', '__and__', '__array__', '__array_finalize__', '__array_function__', '__array_interface__', '__array_prepare__', '__array_priority__', '__array_struct__', '__array_ufunc__', '__array_wrap__', '__bool__', '__class__', '__class_getitem__', '__complex__', '__contains__', '__copy__', '__deepcopy__', '__delattr__', '__delitem__', '__dir__', '__divmod__', '__dlpack__', '__dlpack_device__', '__doc__', '__eq__', '__float__', '__floordiv__', '__format__', '__ge__', '__getattribute__', '__getitem__', '__gt__', '__hash__', '__iadd__', '__iand__', '__ifloordiv__', '__ilshift__', '__imatmul__', '__imod__', '__imul__', '__index__', '__init__', '__init_subclass__', '__int__', '__invert__', '__ior__', '__ipow__', '__irshift__', '__isub__', '__iter__', '__itruediv__', '__ixor__', '__le__', '__len__', '__lshift__', '__lt__', '__matmul__', '__mod__', '__mul__', '__ne__', '__neg__', '__new__', '__or__', '__pos__', '__pow__', '__radd__', '__rand__', '__rdivmod__', '__reduce__', '__reduce_ex__', '__repr__', '__rfloordiv__', '__rlshift__', '__rmatmul__', '__rmod__', '__rmul__', '__ror__', '__rpow__', '__rrshift__', '__rshift__', '__rsub__', '__rtruediv__', '__rxor__', '__setattr__', '__setitem__', '__setstate__', '__sizeof__', '__str__', '__sub__', '__subclasshook__', '__truediv__', '__xor__', 'all', 'any', 'argmax', 'argmin', 'argpartition', 'argsort', 'astype', 'base', 'byteswap', 'choose', 'clip', 'compress', 'conj', 'conjugate', 'copy', 'ctypes', 'cumprod', 'cumsum', 'data', 'diagonal', 'dot', 'dtype', 'dump', 'dumps', 'fill', 'flags', 'flat', 'flatten', 'getfield', 'imag', 'item', 'itemset', 'itemsize', 'max', 'mean', 'min', 'nbytes', 'ndim', 'newbyteorder', 'nonzero', 'partition', 'prod', 'ptp', 'put', 'ravel', 'real', 'repeat', 'reshape', 'resize', 'round', 'searchsorted', 'setfield', 'setflags', 'shape', 'size', 'sort', 'squeeze', 'std', 'strides', 'sum', 'swapaxes', 'take', 'tobytes', 'tofile', 'tolist', 'tostring', 'trace', 'transpose', 'var', 'view']\n"
          ]
        }
      ]
    },
    {
      "cell_type": "code",
      "source": [
        "print(a.__repr__)\n",
        "print(a.__str__)"
      ],
      "metadata": {
        "colab": {
          "base_uri": "https://localhost:8080/"
        },
        "id": "rho3qqjGS3wL",
        "outputId": "fa76adc9-251c-4548-ab21-d77636486824"
      },
      "execution_count": 5,
      "outputs": [
        {
          "output_type": "stream",
          "name": "stdout",
          "text": [
            "<method-wrapper '__repr__' of numpy.ndarray object at 0x7830b40cbc30>\n",
            "<method-wrapper '__str__' of numpy.ndarray object at 0x7830b40cbc30>\n"
          ]
        }
      ]
    },
    {
      "cell_type": "code",
      "source": [
        "print(type(a))"
      ],
      "metadata": {
        "colab": {
          "base_uri": "https://localhost:8080/"
        },
        "id": "nPn7D5GhTKiD",
        "outputId": "4970a402-07e8-48d4-ea53-68f3f4c08bba"
      },
      "execution_count": 6,
      "outputs": [
        {
          "output_type": "stream",
          "name": "stdout",
          "text": [
            "<class 'numpy.ndarray'>\n"
          ]
        }
      ]
    },
    {
      "cell_type": "markdown",
      "source": [
        "np.array()\n",
        "\n"
      ],
      "metadata": {
        "id": "9S96IkJPR-Bs"
      }
    },
    {
      "cell_type": "code",
      "source": [
        "a = np.array([1,2,3])   # 1차원 배열 =벡터\n",
        "a"
      ],
      "metadata": {
        "colab": {
          "base_uri": "https://localhost:8080/"
        },
        "id": "cozCYNOsT7wv",
        "outputId": "6dad94a1-31ed-42ac-ea50-64febe18e082"
      },
      "execution_count": 7,
      "outputs": [
        {
          "output_type": "execute_result",
          "data": {
            "text/plain": [
              "array([1, 2, 3])"
            ]
          },
          "metadata": {},
          "execution_count": 7
        }
      ]
    },
    {
      "cell_type": "code",
      "source": [
        "print(a)\n",
        "print(type(a))\n",
        "print(dir(a))"
      ],
      "metadata": {
        "colab": {
          "base_uri": "https://localhost:8080/"
        },
        "id": "xoR6koUFUBXq",
        "outputId": "a4a76e61-b915-4712-b1d7-a032567b959c"
      },
      "execution_count": 8,
      "outputs": [
        {
          "output_type": "stream",
          "name": "stdout",
          "text": [
            "[1 2 3]\n",
            "<class 'numpy.ndarray'>\n",
            "['T', '__abs__', '__add__', '__and__', '__array__', '__array_finalize__', '__array_function__', '__array_interface__', '__array_prepare__', '__array_priority__', '__array_struct__', '__array_ufunc__', '__array_wrap__', '__bool__', '__class__', '__class_getitem__', '__complex__', '__contains__', '__copy__', '__deepcopy__', '__delattr__', '__delitem__', '__dir__', '__divmod__', '__dlpack__', '__dlpack_device__', '__doc__', '__eq__', '__float__', '__floordiv__', '__format__', '__ge__', '__getattribute__', '__getitem__', '__gt__', '__hash__', '__iadd__', '__iand__', '__ifloordiv__', '__ilshift__', '__imatmul__', '__imod__', '__imul__', '__index__', '__init__', '__init_subclass__', '__int__', '__invert__', '__ior__', '__ipow__', '__irshift__', '__isub__', '__iter__', '__itruediv__', '__ixor__', '__le__', '__len__', '__lshift__', '__lt__', '__matmul__', '__mod__', '__mul__', '__ne__', '__neg__', '__new__', '__or__', '__pos__', '__pow__', '__radd__', '__rand__', '__rdivmod__', '__reduce__', '__reduce_ex__', '__repr__', '__rfloordiv__', '__rlshift__', '__rmatmul__', '__rmod__', '__rmul__', '__ror__', '__rpow__', '__rrshift__', '__rshift__', '__rsub__', '__rtruediv__', '__rxor__', '__setattr__', '__setitem__', '__setstate__', '__sizeof__', '__str__', '__sub__', '__subclasshook__', '__truediv__', '__xor__', 'all', 'any', 'argmax', 'argmin', 'argpartition', 'argsort', 'astype', 'base', 'byteswap', 'choose', 'clip', 'compress', 'conj', 'conjugate', 'copy', 'ctypes', 'cumprod', 'cumsum', 'data', 'diagonal', 'dot', 'dtype', 'dump', 'dumps', 'fill', 'flags', 'flat', 'flatten', 'getfield', 'imag', 'item', 'itemset', 'itemsize', 'max', 'mean', 'min', 'nbytes', 'ndim', 'newbyteorder', 'nonzero', 'partition', 'prod', 'ptp', 'put', 'ravel', 'real', 'repeat', 'reshape', 'resize', 'round', 'searchsorted', 'setfield', 'setflags', 'shape', 'size', 'sort', 'squeeze', 'std', 'strides', 'sum', 'swapaxes', 'take', 'tobytes', 'tofile', 'tolist', 'tostring', 'trace', 'transpose', 'var', 'view']\n"
          ]
        }
      ]
    },
    {
      "cell_type": "code",
      "source": [
        "#2차원 배열 = 행렬\n",
        "b = np.array([[1,2],[3,4]])   #2행 2열\n",
        "b"
      ],
      "metadata": {
        "colab": {
          "base_uri": "https://localhost:8080/"
        },
        "id": "s1nmBLWSURyF",
        "outputId": "52922306-2299-4c3a-8262-7e7c26580114"
      },
      "execution_count": 9,
      "outputs": [
        {
          "output_type": "execute_result",
          "data": {
            "text/plain": [
              "array([[1, 2],\n",
              "       [3, 4]])"
            ]
          },
          "metadata": {},
          "execution_count": 9
        }
      ]
    },
    {
      "cell_type": "code",
      "source": [
        "print(b)\n",
        "print(type(b))\n",
        "print(dir(b))\n",
        "print(b.shape)   #.shape 현재 몇행 몇렬인지 알고싶다."
      ],
      "metadata": {
        "colab": {
          "base_uri": "https://localhost:8080/"
        },
        "id": "J-E-mn_3Uuts",
        "outputId": "cb4e5010-3152-4146-fe5c-704dd39fbbe1"
      },
      "execution_count": 10,
      "outputs": [
        {
          "output_type": "stream",
          "name": "stdout",
          "text": [
            "[[1 2]\n",
            " [3 4]]\n",
            "<class 'numpy.ndarray'>\n",
            "['T', '__abs__', '__add__', '__and__', '__array__', '__array_finalize__', '__array_function__', '__array_interface__', '__array_prepare__', '__array_priority__', '__array_struct__', '__array_ufunc__', '__array_wrap__', '__bool__', '__class__', '__class_getitem__', '__complex__', '__contains__', '__copy__', '__deepcopy__', '__delattr__', '__delitem__', '__dir__', '__divmod__', '__dlpack__', '__dlpack_device__', '__doc__', '__eq__', '__float__', '__floordiv__', '__format__', '__ge__', '__getattribute__', '__getitem__', '__gt__', '__hash__', '__iadd__', '__iand__', '__ifloordiv__', '__ilshift__', '__imatmul__', '__imod__', '__imul__', '__index__', '__init__', '__init_subclass__', '__int__', '__invert__', '__ior__', '__ipow__', '__irshift__', '__isub__', '__iter__', '__itruediv__', '__ixor__', '__le__', '__len__', '__lshift__', '__lt__', '__matmul__', '__mod__', '__mul__', '__ne__', '__neg__', '__new__', '__or__', '__pos__', '__pow__', '__radd__', '__rand__', '__rdivmod__', '__reduce__', '__reduce_ex__', '__repr__', '__rfloordiv__', '__rlshift__', '__rmatmul__', '__rmod__', '__rmul__', '__ror__', '__rpow__', '__rrshift__', '__rshift__', '__rsub__', '__rtruediv__', '__rxor__', '__setattr__', '__setitem__', '__setstate__', '__sizeof__', '__str__', '__sub__', '__subclasshook__', '__truediv__', '__xor__', 'all', 'any', 'argmax', 'argmin', 'argpartition', 'argsort', 'astype', 'base', 'byteswap', 'choose', 'clip', 'compress', 'conj', 'conjugate', 'copy', 'ctypes', 'cumprod', 'cumsum', 'data', 'diagonal', 'dot', 'dtype', 'dump', 'dumps', 'fill', 'flags', 'flat', 'flatten', 'getfield', 'imag', 'item', 'itemset', 'itemsize', 'max', 'mean', 'min', 'nbytes', 'ndim', 'newbyteorder', 'nonzero', 'partition', 'prod', 'ptp', 'put', 'ravel', 'real', 'repeat', 'reshape', 'resize', 'round', 'searchsorted', 'setfield', 'setflags', 'shape', 'size', 'sort', 'squeeze', 'std', 'strides', 'sum', 'swapaxes', 'take', 'tobytes', 'tofile', 'tolist', 'tostring', 'trace', 'transpose', 'var', 'view']\n",
            "(2, 2)\n"
          ]
        }
      ]
    },
    {
      "cell_type": "code",
      "source": [
        "# 3차월 배열 , 그이상은 텐서(tensor)라고 함\n",
        "c = np. array([[[1,2],[3,4]],[[5,6],[7,8]]])  #2층(면,공간), 2행, 2열\n",
        "c"
      ],
      "metadata": {
        "colab": {
          "base_uri": "https://localhost:8080/"
        },
        "id": "eJ9MDLn7Ve2s",
        "outputId": "efc4887a-6ff4-4673-ab51-492f34c79f16"
      },
      "execution_count": 11,
      "outputs": [
        {
          "output_type": "execute_result",
          "data": {
            "text/plain": [
              "array([[[1, 2],\n",
              "        [3, 4]],\n",
              "\n",
              "       [[5, 6],\n",
              "        [7, 8]]])"
            ]
          },
          "metadata": {},
          "execution_count": 11
        }
      ]
    },
    {
      "cell_type": "code",
      "source": [
        "print(c)\n",
        "print(type(c))\n",
        "print(dir(c))\n",
        "print(c.shape)"
      ],
      "metadata": {
        "colab": {
          "base_uri": "https://localhost:8080/"
        },
        "id": "VIc7w1PPWEYK",
        "outputId": "85811f1e-885c-4799-b724-4cf08a5f0efa"
      },
      "execution_count": 12,
      "outputs": [
        {
          "output_type": "stream",
          "name": "stdout",
          "text": [
            "[[[1 2]\n",
            "  [3 4]]\n",
            "\n",
            " [[5 6]\n",
            "  [7 8]]]\n",
            "<class 'numpy.ndarray'>\n",
            "['T', '__abs__', '__add__', '__and__', '__array__', '__array_finalize__', '__array_function__', '__array_interface__', '__array_prepare__', '__array_priority__', '__array_struct__', '__array_ufunc__', '__array_wrap__', '__bool__', '__class__', '__class_getitem__', '__complex__', '__contains__', '__copy__', '__deepcopy__', '__delattr__', '__delitem__', '__dir__', '__divmod__', '__dlpack__', '__dlpack_device__', '__doc__', '__eq__', '__float__', '__floordiv__', '__format__', '__ge__', '__getattribute__', '__getitem__', '__gt__', '__hash__', '__iadd__', '__iand__', '__ifloordiv__', '__ilshift__', '__imatmul__', '__imod__', '__imul__', '__index__', '__init__', '__init_subclass__', '__int__', '__invert__', '__ior__', '__ipow__', '__irshift__', '__isub__', '__iter__', '__itruediv__', '__ixor__', '__le__', '__len__', '__lshift__', '__lt__', '__matmul__', '__mod__', '__mul__', '__ne__', '__neg__', '__new__', '__or__', '__pos__', '__pow__', '__radd__', '__rand__', '__rdivmod__', '__reduce__', '__reduce_ex__', '__repr__', '__rfloordiv__', '__rlshift__', '__rmatmul__', '__rmod__', '__rmul__', '__ror__', '__rpow__', '__rrshift__', '__rshift__', '__rsub__', '__rtruediv__', '__rxor__', '__setattr__', '__setitem__', '__setstate__', '__sizeof__', '__str__', '__sub__', '__subclasshook__', '__truediv__', '__xor__', 'all', 'any', 'argmax', 'argmin', 'argpartition', 'argsort', 'astype', 'base', 'byteswap', 'choose', 'clip', 'compress', 'conj', 'conjugate', 'copy', 'ctypes', 'cumprod', 'cumsum', 'data', 'diagonal', 'dot', 'dtype', 'dump', 'dumps', 'fill', 'flags', 'flat', 'flatten', 'getfield', 'imag', 'item', 'itemset', 'itemsize', 'max', 'mean', 'min', 'nbytes', 'ndim', 'newbyteorder', 'nonzero', 'partition', 'prod', 'ptp', 'put', 'ravel', 'real', 'repeat', 'reshape', 'resize', 'round', 'searchsorted', 'setfield', 'setflags', 'shape', 'size', 'sort', 'squeeze', 'std', 'strides', 'sum', 'swapaxes', 'take', 'tobytes', 'tofile', 'tolist', 'tostring', 'trace', 'transpose', 'var', 'view']\n",
            "(2, 2, 2)\n"
          ]
        }
      ]
    },
    {
      "cell_type": "code",
      "source": [
        "a = np.array ([1,2,3])\n",
        "print(a)\n",
        "print(a[0])"
      ],
      "metadata": {
        "colab": {
          "base_uri": "https://localhost:8080/"
        },
        "id": "pF0FcgzVWS7y",
        "outputId": "67c38800-645b-443b-cc8c-c3e045016e4b"
      },
      "execution_count": 13,
      "outputs": [
        {
          "output_type": "stream",
          "name": "stdout",
          "text": [
            "[1 2 3]\n",
            "1\n"
          ]
        }
      ]
    },
    {
      "cell_type": "code",
      "source": [
        "# 문자 데이터가 하나라도 있으면 전체가 문자로 출력된다.\n",
        "# numpy는homogenous이다. 즉, 같은 타입만 저장 할 수 있다.\n",
        "a = np.array ([1,'2',3])\n",
        "print(a)\n",
        "print(a[0])"
      ],
      "metadata": {
        "colab": {
          "base_uri": "https://localhost:8080/"
        },
        "id": "vAdGVMahWvSa",
        "outputId": "3c2d0e2a-2b3c-4648-f22d-591b6e7807a8"
      },
      "execution_count": 14,
      "outputs": [
        {
          "output_type": "stream",
          "name": "stdout",
          "text": [
            "['1' '2' '3']\n",
            "1\n"
          ]
        }
      ]
    },
    {
      "cell_type": "code",
      "source": [
        "#논리값에서 False는 0, True는 1로 저장함\n",
        "a = np.array ([0,False,1,True])\n",
        "print(a)\n",
        "print(a[0])"
      ],
      "metadata": {
        "colab": {
          "base_uri": "https://localhost:8080/"
        },
        "id": "binKRtBqXZBG",
        "outputId": "7ea82fda-106a-44e3-d97e-2fd8c9a448ec"
      },
      "execution_count": 15,
      "outputs": [
        {
          "output_type": "stream",
          "name": "stdout",
          "text": [
            "[0 0 1 1]\n",
            "0\n"
          ]
        }
      ]
    },
    {
      "cell_type": "markdown",
      "source": [
        "\n",
        "#np.zeros\n",
        "```\n",
        "-tuple로 인자를 넣으면 그대로 모양을 만든다.   \n",
        "- (2,3): 2행 3열의 행렬을 만든다.   \n",
        "- zeros는 기본값으로 0.으로 값을 모두 채운다.\n",
        "  -np.zeros((2,3))\n",
        "  -np.zeros([2,3])\n",
        "\n",
        "```"
      ],
      "metadata": {
        "id": "GE2Zdo4MT4MT"
      }
    },
    {
      "cell_type": "code",
      "execution_count": 16,
      "metadata": {
        "colab": {
          "base_uri": "https://localhost:8080/"
        },
        "id": "8obUbKrkPvfZ",
        "outputId": "d4d5b11b-2d9b-4fed-85e9-6d338faec45c"
      },
      "outputs": [
        {
          "output_type": "stream",
          "name": "stdout",
          "text": [
            "[0. 0. 0.]\n",
            "(3,)\n"
          ]
        }
      ],
      "source": [
        "a = np.zeros(3)\n",
        "\n",
        "print(a)\n",
        "print(a.shape)"
      ]
    },
    {
      "cell_type": "code",
      "source": [
        "a = np.zeros((2,3))\n",
        "\n",
        "print(a)\n",
        "print(a.shape)"
      ],
      "metadata": {
        "colab": {
          "base_uri": "https://localhost:8080/"
        },
        "id": "H_OVIH6LYura",
        "outputId": "e1b93eff-844c-4f7d-ac12-c86aaa62eebe"
      },
      "execution_count": 17,
      "outputs": [
        {
          "output_type": "stream",
          "name": "stdout",
          "text": [
            "[[0. 0. 0.]\n",
            " [0. 0. 0.]]\n",
            "(2, 3)\n"
          ]
        }
      ]
    },
    {
      "cell_type": "code",
      "source": [
        "a = np.zeros([2,3])\n",
        "\n",
        "print(a)\n",
        "print(a.shape)"
      ],
      "metadata": {
        "colab": {
          "base_uri": "https://localhost:8080/"
        },
        "id": "XOfDTbZkYzkp",
        "outputId": "2ce13daa-d3e6-482c-9630-354c34732c78"
      },
      "execution_count": 18,
      "outputs": [
        {
          "output_type": "stream",
          "name": "stdout",
          "text": [
            "[[0. 0. 0.]\n",
            " [0. 0. 0.]]\n",
            "(2, 3)\n"
          ]
        }
      ]
    },
    {
      "cell_type": "markdown",
      "source": [
        "### np.eye\n",
        "- eye는 단위행렬\n",
        "- 숫자만 사용할 수 있다.\n"
      ],
      "metadata": {
        "id": "hC3YRVzEPzzI"
      }
    },
    {
      "cell_type": "code",
      "source": [
        "a= np.eye(3)\n",
        "a"
      ],
      "metadata": {
        "colab": {
          "base_uri": "https://localhost:8080/"
        },
        "id": "9Pwg9_WIq2-e",
        "outputId": "d3f8dc4f-7e6e-457f-cc25-03a346ac6596"
      },
      "execution_count": 19,
      "outputs": [
        {
          "output_type": "execute_result",
          "data": {
            "text/plain": [
              "array([[1., 0., 0.],\n",
              "       [0., 1., 0.],\n",
              "       [0., 0., 1.]])"
            ]
          },
          "metadata": {},
          "execution_count": 19
        }
      ]
    },
    {
      "cell_type": "code",
      "source": [
        "# eye는 행과 열의 크기를 지정할 수 있다.\n",
        "# 3행 2열 행렬생성\n",
        "a = np.eye(3,2) #3행 2열\n",
        "a"
      ],
      "metadata": {
        "colab": {
          "base_uri": "https://localhost:8080/"
        },
        "id": "QCzAtW4braHl",
        "outputId": "b29d2d9f-7274-43a4-d1d5-3b602e8ce011"
      },
      "execution_count": 20,
      "outputs": [
        {
          "output_type": "execute_result",
          "data": {
            "text/plain": [
              "array([[1., 0.],\n",
              "       [0., 1.],\n",
              "       [0., 0.]])"
            ]
          },
          "metadata": {},
          "execution_count": 20
        }
      ]
    },
    {
      "cell_type": "code",
      "source": [
        "# 1이 시작되는 위치를 지정할 수 있다. (k=1)\n",
        "a= np.eye(3,4,k=1) #3행 4열\n",
        "a"
      ],
      "metadata": {
        "colab": {
          "base_uri": "https://localhost:8080/"
        },
        "id": "NYRPcPZPr350",
        "outputId": "1864fcf2-61eb-4153-ee22-767b9bc6c49f"
      },
      "execution_count": 21,
      "outputs": [
        {
          "output_type": "execute_result",
          "data": {
            "text/plain": [
              "array([[0., 1., 0., 0.],\n",
              "       [0., 0., 1., 0.],\n",
              "       [0., 0., 0., 1.]])"
            ]
          },
          "metadata": {},
          "execution_count": 21
        }
      ]
    },
    {
      "cell_type": "markdown",
      "source": [
        "### 단위행렬 identity\n",
        "- 수학에서 단위행렬은 영어로 identity matrix\n",
        "- 크기 한 개만 지정해서 생성할 수 있다."
      ],
      "metadata": {
        "id": "6kye8BgHsjX1"
      }
    },
    {
      "cell_type": "code",
      "source": [
        "a = np.identity(3)\n",
        "a"
      ],
      "metadata": {
        "colab": {
          "base_uri": "https://localhost:8080/"
        },
        "id": "9-Bm3w1NssDL",
        "outputId": "f2b04fc2-7acf-4143-e88e-4c232319210a"
      },
      "execution_count": 22,
      "outputs": [
        {
          "output_type": "execute_result",
          "data": {
            "text/plain": [
              "array([[1., 0., 0.],\n",
              "       [0., 1., 0.],\n",
              "       [0., 0., 1.]])"
            ]
          },
          "metadata": {},
          "execution_count": 22
        }
      ]
    },
    {
      "cell_type": "markdown",
      "source": [
        "### np.full\n",
        " - 지정한 크기의 배열을 생성하고 채울값을 지정 한다."
      ],
      "metadata": {
        "id": "ynxbPi-dtH7s"
      }
    },
    {
      "cell_type": "code",
      "source": [
        "#2행 2열의 행렬을 생성하고 1로 초기화 해준다.\n",
        "a = np.full((3,4),1) #np.full(shape. fill_value)\n",
        "a"
      ],
      "metadata": {
        "colab": {
          "base_uri": "https://localhost:8080/"
        },
        "id": "FnTO6DyOtMny",
        "outputId": "afab8890-cf2b-48a5-e55f-586b1fc6f436"
      },
      "execution_count": 23,
      "outputs": [
        {
          "output_type": "execute_result",
          "data": {
            "text/plain": [
              "array([[1, 1, 1, 1],\n",
              "       [1, 1, 1, 1],\n",
              "       [1, 1, 1, 1]])"
            ]
          },
          "metadata": {},
          "execution_count": 23
        }
      ]
    },
    {
      "cell_type": "code",
      "source": [
        "#2행 2열의 행렬을 생성하고 각 행마다 1, 2로 초기화 해준다.\n",
        "a= np.full((2,2),[1,2])\n",
        "a"
      ],
      "metadata": {
        "colab": {
          "base_uri": "https://localhost:8080/"
        },
        "id": "iV8v6aJCtgrS",
        "outputId": "9697e1bf-a898-4fac-c0ba-7f664545d1ab"
      },
      "execution_count": 24,
      "outputs": [
        {
          "output_type": "execute_result",
          "data": {
            "text/plain": [
              "array([[1, 2],\n",
              "       [1, 2]])"
            ]
          },
          "metadata": {},
          "execution_count": 24
        }
      ]
    },
    {
      "cell_type": "code",
      "source": [
        "# 2행 2열의 행렬을 생성하고 각각 1,2,3,4,로 초기화 해준다.\n",
        "a= np.full((2,2),[[1,2],[3,4]])\n",
        "a"
      ],
      "metadata": {
        "colab": {
          "base_uri": "https://localhost:8080/"
        },
        "id": "Kq62RLcfsYXs",
        "outputId": "c1c3fd80-15c6-4cb6-9638-8ade618b9dbe"
      },
      "execution_count": 25,
      "outputs": [
        {
          "output_type": "execute_result",
          "data": {
            "text/plain": [
              "array([[1, 2],\n",
              "       [3, 4]])"
            ]
          },
          "metadata": {},
          "execution_count": 25
        }
      ]
    },
    {
      "cell_type": "markdown",
      "source": [
        "### np.empty\n",
        "- 배열을 생성하고 초기화를 지정하지 않는다.\n",
        "- 메모리에 있는 값이나 이전에 사용했던 값들로 채워진다.  "
      ],
      "metadata": {
        "id": "MmueFO61uN50"
      }
    },
    {
      "cell_type": "code",
      "source": [
        "a = np.empty(3)\n",
        "a"
      ],
      "metadata": {
        "colab": {
          "base_uri": "https://localhost:8080/"
        },
        "id": "hDG2my-cuVV0",
        "outputId": "5bdb82d2-11e5-470f-98ad-f36993631031"
      },
      "execution_count": 26,
      "outputs": [
        {
          "output_type": "execute_result",
          "data": {
            "text/plain": [
              "array([1., 1., 1.])"
            ]
          },
          "metadata": {},
          "execution_count": 26
        }
      ]
    },
    {
      "cell_type": "code",
      "source": [
        "# 2행2열이 생성됨\n",
        "a= np.empty((2,3))\n",
        "a"
      ],
      "metadata": {
        "colab": {
          "base_uri": "https://localhost:8080/"
        },
        "id": "7sd8rZqEvP7d",
        "outputId": "920c0ca1-4369-4d25-ff89-abfe71b8a6cd"
      },
      "execution_count": 27,
      "outputs": [
        {
          "output_type": "execute_result",
          "data": {
            "text/plain": [
              "array([[1., 0., 0.],\n",
              "       [1., 0., 0.]])"
            ]
          },
          "metadata": {},
          "execution_count": 27
        }
      ]
    },
    {
      "cell_type": "markdown",
      "source": [
        "### np.ones\n",
        " - 배열의 모든 값을 1로 채운다.\n"
      ],
      "metadata": {
        "id": "nz0TCD6cvvzk"
      }
    },
    {
      "cell_type": "code",
      "source": [
        "a = np.ones(3)\n",
        "a"
      ],
      "metadata": {
        "colab": {
          "base_uri": "https://localhost:8080/"
        },
        "id": "mvmia95Nvmtj",
        "outputId": "22d8d9ea-4afe-4ffb-f362-bc9ac6abab3b"
      },
      "execution_count": 28,
      "outputs": [
        {
          "output_type": "execute_result",
          "data": {
            "text/plain": [
              "array([1., 1., 1.])"
            ]
          },
          "metadata": {},
          "execution_count": 28
        }
      ]
    },
    {
      "cell_type": "code",
      "source": [
        "a = np.ones((2,3))\n",
        "a\n"
      ],
      "metadata": {
        "colab": {
          "base_uri": "https://localhost:8080/"
        },
        "id": "yXkx7Tyfv4zK",
        "outputId": "539291df-675e-4824-e93b-2ef7fc21be64"
      },
      "execution_count": 29,
      "outputs": [
        {
          "output_type": "execute_result",
          "data": {
            "text/plain": [
              "array([[1., 1., 1.],\n",
              "       [1., 1., 1.]])"
            ]
          },
          "metadata": {},
          "execution_count": 29
        }
      ]
    },
    {
      "cell_type": "markdown",
      "source": [
        "### _like\n",
        "- _like가 붙으면 shape가 같게 만들어 진다.\n",
        "- 연산하기 위해서 shape를 맞춰야 하는 경우가 있다.\n"
      ],
      "metadata": {
        "id": "GW1rS4gWwNMZ"
      }
    },
    {
      "cell_type": "code",
      "source": [
        "# 2행 3열의 배열 생성\n",
        "\n",
        "a = np.array([[1,2,3],[4,5,6]])\n",
        "a"
      ],
      "metadata": {
        "colab": {
          "base_uri": "https://localhost:8080/"
        },
        "id": "OLbyipNOwYVD",
        "outputId": "f8c7e4f0-618b-4740-b9d3-2440102aaf84"
      },
      "execution_count": 30,
      "outputs": [
        {
          "output_type": "execute_result",
          "data": {
            "text/plain": [
              "array([[1, 2, 3],\n",
              "       [4, 5, 6]])"
            ]
          },
          "metadata": {},
          "execution_count": 30
        }
      ]
    },
    {
      "cell_type": "code",
      "source": [
        "b = np.ones_like(a) # a배열의 shape를 복사한다.\n",
        "b"
      ],
      "metadata": {
        "colab": {
          "base_uri": "https://localhost:8080/"
        },
        "id": "vJ4t0frgwofS",
        "outputId": "f1945cce-bdd6-44c8-d91e-aace0f0ca5e2"
      },
      "execution_count": 31,
      "outputs": [
        {
          "output_type": "execute_result",
          "data": {
            "text/plain": [
              "array([[1, 1, 1],\n",
              "       [1, 1, 1]])"
            ]
          },
          "metadata": {},
          "execution_count": 31
        }
      ]
    },
    {
      "cell_type": "code",
      "source": [
        "c = a+b\n",
        "c"
      ],
      "metadata": {
        "colab": {
          "base_uri": "https://localhost:8080/"
        },
        "id": "ANFCVJihxXnK",
        "outputId": "c9f3c6fa-78fc-47b2-feea-03c85321fe90"
      },
      "execution_count": 32,
      "outputs": [
        {
          "output_type": "execute_result",
          "data": {
            "text/plain": [
              "array([[2, 3, 4],\n",
              "       [5, 6, 7]])"
            ]
          },
          "metadata": {},
          "execution_count": 32
        }
      ]
    },
    {
      "cell_type": "markdown",
      "source": [
        "### linespace\n",
        "- 동등한 간격으로 값을 생성한다.\n",
        "- 0부터 49까지 50개가 생성된다면 세번째 num 인자 값이 생략되어 있으므로 start와\n",
        "  end 계산해서 default 50이 생성된다.\n",
        "- linspace(start, end, num)\n",
        "- linspace (0,49) # 50 #num의 default value 50\n",
        "\n"
      ],
      "metadata": {
        "id": "qTitoppGwNK8"
      }
    },
    {
      "cell_type": "code",
      "source": [
        "a = np.linspace(0,49)\n",
        "a"
      ],
      "metadata": {
        "colab": {
          "base_uri": "https://localhost:8080/"
        },
        "id": "jQXVhp0ZwJqq",
        "outputId": "059ab3e4-4436-42fa-e6fd-8b054b33bb4f"
      },
      "execution_count": 33,
      "outputs": [
        {
          "output_type": "execute_result",
          "data": {
            "text/plain": [
              "array([ 0.,  1.,  2.,  3.,  4.,  5.,  6.,  7.,  8.,  9., 10., 11., 12.,\n",
              "       13., 14., 15., 16., 17., 18., 19., 20., 21., 22., 23., 24., 25.,\n",
              "       26., 27., 28., 29., 30., 31., 32., 33., 34., 35., 36., 37., 38.,\n",
              "       39., 40., 41., 42., 43., 44., 45., 46., 47., 48., 49.])"
            ]
          },
          "metadata": {},
          "execution_count": 33
        }
      ]
    },
    {
      "cell_type": "code",
      "source": [
        "#endpoint를 False로 설정을 하면 5가 포함이 안된다.\n",
        "a = np.linspace(0, 5, endpoint=False)\n",
        "a"
      ],
      "metadata": {
        "colab": {
          "base_uri": "https://localhost:8080/"
        },
        "id": "gdNec64uy4Dr",
        "outputId": "1b2f70f9-517a-4379-b16f-946dec637d8a"
      },
      "execution_count": 34,
      "outputs": [
        {
          "output_type": "execute_result",
          "data": {
            "text/plain": [
              "array([0. , 0.1, 0.2, 0.3, 0.4, 0.5, 0.6, 0.7, 0.8, 0.9, 1. , 1.1, 1.2,\n",
              "       1.3, 1.4, 1.5, 1.6, 1.7, 1.8, 1.9, 2. , 2.1, 2.2, 2.3, 2.4, 2.5,\n",
              "       2.6, 2.7, 2.8, 2.9, 3. , 3.1, 3.2, 3.3, 3.4, 3.5, 3.6, 3.7, 3.8,\n",
              "       3.9, 4. , 4.1, 4.2, 4.3, 4.4, 4.5, 4.6, 4.7, 4.8, 4.9])"
            ]
          },
          "metadata": {},
          "execution_count": 34
        }
      ]
    },
    {
      "cell_type": "markdown",
      "source": [
        "## logspace\n",
        "-linspace와 비슷하다.   \n",
        "-log scale을 사용하는 차이가 있다.   "
      ],
      "metadata": {
        "id": "oowKMrd4u9nl"
      }
    },
    {
      "cell_type": "code",
      "source": [
        "np.logspace(1,50,30) #1부터 50까지 사이의 30개의 요소를 생성한다."
      ],
      "metadata": {
        "colab": {
          "base_uri": "https://localhost:8080/"
        },
        "id": "T7vLm5sc0LSO",
        "outputId": "b1f77405-a00f-45cd-b6d3-a8538a9da3f8"
      },
      "execution_count": 35,
      "outputs": [
        {
          "output_type": "execute_result",
          "data": {
            "text/plain": [
              "array([1.00000000e+01, 4.89390092e+02, 2.39502662e+04, 1.17210230e+06,\n",
              "       5.73615251e+07, 2.80721620e+09, 1.37382380e+11, 6.72335754e+12,\n",
              "       3.29034456e+14, 1.61026203e+16, 7.88046282e+17, 3.85662042e+19,\n",
              "       1.88739182e+21, 9.23670857e+22, 4.52035366e+24, 2.21221629e+26,\n",
              "       1.08263673e+28, 5.29831691e+29, 2.59294380e+31, 1.26896100e+33,\n",
              "       6.21016942e+34, 3.03919538e+36, 1.48735211e+38, 7.27895384e+39,\n",
              "       3.56224789e+41, 1.74332882e+43, 8.53167852e+44, 4.17531894e+46,\n",
              "       2.04335972e+48, 1.00000000e+50])"
            ]
          },
          "metadata": {},
          "execution_count": 35
        }
      ]
    },
    {
      "cell_type": "markdown",
      "source": [
        "##데이터타입"
      ],
      "metadata": {
        "id": "pE85mh3h4xJv"
      }
    },
    {
      "cell_type": "code",
      "source": [
        "a = np.array([1,2,3])\n",
        "a"
      ],
      "metadata": {
        "colab": {
          "base_uri": "https://localhost:8080/"
        },
        "id": "nzuhk-pP41bv",
        "outputId": "42afcd5b-f23f-45ad-bc89-d236eb83c4d5"
      },
      "execution_count": 36,
      "outputs": [
        {
          "output_type": "execute_result",
          "data": {
            "text/plain": [
              "array([1, 2, 3])"
            ]
          },
          "metadata": {},
          "execution_count": 36
        }
      ]
    },
    {
      "cell_type": "code",
      "source": [
        "print(type(a))\n",
        "print(a.dtype)"
      ],
      "metadata": {
        "colab": {
          "base_uri": "https://localhost:8080/"
        },
        "id": "QMxr_x-_40H4",
        "outputId": "419096b8-c1a6-4d7d-966d-08de47f96901"
      },
      "execution_count": 37,
      "outputs": [
        {
          "output_type": "stream",
          "name": "stdout",
          "text": [
            "<class 'numpy.ndarray'>\n",
            "int64\n"
          ]
        }
      ]
    },
    {
      "cell_type": "code",
      "source": [
        "b = np.array([1,2,3], dtype=np.int8) # -128~ +127까지만 허용이 된다.\n",
        "b"
      ],
      "metadata": {
        "colab": {
          "base_uri": "https://localhost:8080/"
        },
        "id": "x7J35M8CrHqV",
        "outputId": "706f1463-19d5-4d3d-9e15-e02e08845b76"
      },
      "execution_count": 38,
      "outputs": [
        {
          "output_type": "execute_result",
          "data": {
            "text/plain": [
              "array([1, 2, 3], dtype=int8)"
            ]
          },
          "metadata": {},
          "execution_count": 38
        }
      ]
    },
    {
      "cell_type": "code",
      "source": [
        "b = np.array([-128,-127,5,100,127], dtype=np.int8)\n",
        "b"
      ],
      "metadata": {
        "colab": {
          "base_uri": "https://localhost:8080/"
        },
        "id": "jViJcGJn8O1Q",
        "outputId": "26568348-a76c-47f3-8d18-a58cae5ab5ef"
      },
      "execution_count": 39,
      "outputs": [
        {
          "output_type": "execute_result",
          "data": {
            "text/plain": [
              "array([-128, -127,    5,  100,  127], dtype=int8)"
            ]
          },
          "metadata": {},
          "execution_count": 39
        }
      ]
    },
    {
      "cell_type": "code",
      "source": [
        "#np.int8은 -128~127 사이의 값을 저장할 수 있다.\n",
        "b = np.array([-128,-127,5,100,128], dtype=np.int8)\n",
        "b"
      ],
      "metadata": {
        "colab": {
          "base_uri": "https://localhost:8080/"
        },
        "id": "4I72O4Ag8cRl",
        "outputId": "e51f1e32-bf95-4ed8-c052-2e800fafaf4f"
      },
      "execution_count": 40,
      "outputs": [
        {
          "output_type": "execute_result",
          "data": {
            "text/plain": [
              "array([-128, -127,    5,  100, -128], dtype=int8)"
            ]
          },
          "metadata": {},
          "execution_count": 40
        }
      ]
    },
    {
      "cell_type": "code",
      "source": [
        "#np.int8은 -128~127 사이의 값을 저장할 수 있다.\n",
        "#128이 -128로 저장된다. (쓰레기 값)\n",
        "b = np.array([-128,-127,5,100,128], dtype=np.int8)\n",
        "b"
      ],
      "metadata": {
        "colab": {
          "base_uri": "https://localhost:8080/"
        },
        "id": "2lJFj1_r8cQZ",
        "outputId": "e921e3a8-93fd-4d64-e64a-a464fce7d567"
      },
      "execution_count": 41,
      "outputs": [
        {
          "output_type": "execute_result",
          "data": {
            "text/plain": [
              "array([-128, -127,    5,  100, -128], dtype=int8)"
            ]
          },
          "metadata": {},
          "execution_count": 41
        }
      ]
    },
    {
      "cell_type": "code",
      "source": [
        "#python의int를 지정한다.\n",
        "c= np.array([127,2,3,-128],dtype=int)  #int는 python의 데이터타입이다.\n",
        "c"
      ],
      "metadata": {
        "colab": {
          "base_uri": "https://localhost:8080/"
        },
        "id": "XhYsHTas9Lc-",
        "outputId": "fe5f8fb6-00aa-4796-b2ec-e61f070d8f25"
      },
      "execution_count": 42,
      "outputs": [
        {
          "output_type": "execute_result",
          "data": {
            "text/plain": [
              "array([ 127,    2,    3, -128])"
            ]
          },
          "metadata": {},
          "execution_count": 42
        }
      ]
    },
    {
      "cell_type": "code",
      "source": [
        "print(c.dtype)            #python의 int == numpy의 64\n",
        "print(type(c))"
      ],
      "metadata": {
        "colab": {
          "base_uri": "https://localhost:8080/"
        },
        "id": "i2DnC1Q49am3",
        "outputId": "1890ee61-3720-407c-d009-2d366e2ca5b5"
      },
      "execution_count": 43,
      "outputs": [
        {
          "output_type": "stream",
          "name": "stdout",
          "text": [
            "int64\n",
            "<class 'numpy.ndarray'>\n"
          ]
        }
      ]
    },
    {
      "cell_type": "markdown",
      "source": [
        "# python의 도움말"
      ],
      "metadata": {
        "id": "xR-cLoVg-T7y"
      }
    },
    {
      "cell_type": "code",
      "source": [
        "sum?"
      ],
      "metadata": {
        "id": "FS-Px5xQ-J3H"
      },
      "execution_count": 44,
      "outputs": []
    },
    {
      "cell_type": "code",
      "source": [
        "help(sum)"
      ],
      "metadata": {
        "id": "yumO30vh-aOw",
        "colab": {
          "base_uri": "https://localhost:8080/"
        },
        "outputId": "15d9f677-097f-4fd5-b069-831727cde6ae"
      },
      "execution_count": 45,
      "outputs": [
        {
          "output_type": "stream",
          "name": "stdout",
          "text": [
            "Help on built-in function sum in module builtins:\n",
            "\n",
            "sum(iterable, /, start=0)\n",
            "    Return the sum of a 'start' value (default: 0) plus an iterable of numbers\n",
            "    \n",
            "    When the iterable is empty, return the start value.\n",
            "    This function is intended specifically for use with numeric values and may\n",
            "    reject non-numeric types.\n",
            "\n"
          ]
        }
      ]
    },
    {
      "cell_type": "markdown",
      "source": [
        "#numpy 도움말"
      ],
      "metadata": {
        "id": "TSGc7csm-OTS"
      }
    },
    {
      "cell_type": "code",
      "source": [
        "# np.lookfor('sum')"
      ],
      "metadata": {
        "id": "4cPgniAo-fAV"
      },
      "execution_count": 46,
      "outputs": []
    },
    {
      "cell_type": "markdown",
      "source": [],
      "metadata": {
        "id": "ztpMNmB5-zAv"
      }
    },
    {
      "cell_type": "code",
      "source": [
        "a = np.array([[1,2,3],[4,5,6]])\n",
        "# array의 shape를 알려준다.\n",
        "a.shape    #(2,3)은 2행 3열이라는 뜻"
      ],
      "metadata": {
        "colab": {
          "base_uri": "https://localhost:8080/"
        },
        "id": "st1aa5Pc-q5e",
        "outputId": "c717c514-59be-48a4-c265-7f3ce62cbb85"
      },
      "execution_count": 47,
      "outputs": [
        {
          "output_type": "execute_result",
          "data": {
            "text/plain": [
              "(2, 3)"
            ]
          },
          "metadata": {},
          "execution_count": 47
        }
      ]
    },
    {
      "cell_type": "code",
      "source": [
        "# array이 몇차원인지 알려준다.\n",
        "a.ndim # ndim 은 몇차원인지를 알려줌"
      ],
      "metadata": {
        "colab": {
          "base_uri": "https://localhost:8080/"
        },
        "id": "i-ppNU8z_J0U",
        "outputId": "4d810b24-36d1-45e8-d9a9-5e6f81a99509"
      },
      "execution_count": 48,
      "outputs": [
        {
          "output_type": "execute_result",
          "data": {
            "text/plain": [
              "2"
            ]
          },
          "metadata": {},
          "execution_count": 48
        }
      ]
    },
    {
      "cell_type": "code",
      "source": [
        "a.dtype  # array배열의 타입을 알수있다."
      ],
      "metadata": {
        "colab": {
          "base_uri": "https://localhost:8080/"
        },
        "id": "UbB7yCFG_ZYV",
        "outputId": "7c1349ad-c44e-4ef3-833f-e07091277533"
      },
      "execution_count": 49,
      "outputs": [
        {
          "output_type": "execute_result",
          "data": {
            "text/plain": [
              "dtype('int64')"
            ]
          },
          "metadata": {},
          "execution_count": 49
        }
      ]
    },
    {
      "cell_type": "code",
      "source": [
        "a.size   #요소개수를 알려준다.\n",
        "        #shape로도 알수있다."
      ],
      "metadata": {
        "colab": {
          "base_uri": "https://localhost:8080/"
        },
        "id": "dNBbBLwm_hq1",
        "outputId": "a21bae87-5bf4-4bb1-ba72-19c43cc80dde"
      },
      "execution_count": 50,
      "outputs": [
        {
          "output_type": "execute_result",
          "data": {
            "text/plain": [
              "6"
            ]
          },
          "metadata": {},
          "execution_count": 50
        }
      ]
    },
    {
      "cell_type": "code",
      "source": [
        "# 요소당 byte수를 알려준다.\n",
        "a.itemsize   #8bit = 1byte   / 64bit = 8 byte"
      ],
      "metadata": {
        "colab": {
          "base_uri": "https://localhost:8080/"
        },
        "id": "1xXCQDgj_kLt",
        "outputId": "287fb893-7375-47aa-a638-8e96fe908d3f"
      },
      "execution_count": 51,
      "outputs": [
        {
          "output_type": "execute_result",
          "data": {
            "text/plain": [
              "8"
            ]
          },
          "metadata": {},
          "execution_count": 51
        }
      ]
    },
    {
      "cell_type": "markdown",
      "source": [
        "## numpy 와 python의 속도차이"
      ],
      "metadata": {
        "id": "y-SexatxBV9g"
      }
    },
    {
      "cell_type": "code",
      "source": [
        "np.arange(10)  # ([start,] end, [step]) 1,3은 생략가능 range랑 동일"
      ],
      "metadata": {
        "colab": {
          "base_uri": "https://localhost:8080/"
        },
        "id": "QCdRtbqpBZS9",
        "outputId": "f07c1509-6389-4c5e-b4f0-c2d404e915d2"
      },
      "execution_count": 52,
      "outputs": [
        {
          "output_type": "execute_result",
          "data": {
            "text/plain": [
              "array([0, 1, 2, 3, 4, 5, 6, 7, 8, 9])"
            ]
          },
          "metadata": {},
          "execution_count": 52
        }
      ]
    },
    {
      "cell_type": "code",
      "source": [
        "#num을 이용한 계산\n",
        "%time np.sum(np.arange(1000000000))"
      ],
      "metadata": {
        "colab": {
          "base_uri": "https://localhost:8080/"
        },
        "id": "Z1yZLGH-BsAd",
        "outputId": "0346dabc-afe1-44fa-da60-a5fa168c1a6a"
      },
      "execution_count": 53,
      "outputs": [
        {
          "output_type": "stream",
          "name": "stdout",
          "text": [
            "CPU times: user 1.71 s, sys: 2.5 s, total: 4.21 s\n",
            "Wall time: 4.82 s\n"
          ]
        },
        {
          "output_type": "execute_result",
          "data": {
            "text/plain": [
              "499999999500000000"
            ]
          },
          "metadata": {},
          "execution_count": 53
        }
      ]
    },
    {
      "cell_type": "markdown",
      "source": [],
      "metadata": {
        "id": "dT260KIQBV7w"
      }
    },
    {
      "cell_type": "code",
      "source": [
        "#python을 이용한 계산\n",
        "%time sum(range(1000000000))"
      ],
      "metadata": {
        "colab": {
          "base_uri": "https://localhost:8080/"
        },
        "id": "s_AET0Vf_2h9",
        "outputId": "bf8ef3a6-6621-4dc7-a844-8d1d04ab1634"
      },
      "execution_count": 54,
      "outputs": [
        {
          "output_type": "stream",
          "name": "stdout",
          "text": [
            "CPU times: user 26.9 s, sys: 164 ms, total: 27.1 s\n",
            "Wall time: 28.8 s\n"
          ]
        },
        {
          "output_type": "execute_result",
          "data": {
            "text/plain": [
              "499999999500000000"
            ]
          },
          "metadata": {},
          "execution_count": 54
        }
      ]
    },
    {
      "cell_type": "markdown",
      "source": [
        "같은 np.sum()을 사용하더라도 값을 생성하는 방법에 따라 속도가 달라진다.\n"
      ],
      "metadata": {
        "id": "QROnm3shCt7g"
      }
    },
    {
      "cell_type": "code",
      "source": [
        "%time np.sum(np.arange(1000000000))"
      ],
      "metadata": {
        "colab": {
          "base_uri": "https://localhost:8080/"
        },
        "id": "QoKWZ9lmCaS7",
        "outputId": "9ce7c039-38a3-438c-8bde-f1899051aec5"
      },
      "execution_count": 55,
      "outputs": [
        {
          "output_type": "stream",
          "name": "stdout",
          "text": [
            "CPU times: user 1.31 s, sys: 1.46 s, total: 2.77 s\n",
            "Wall time: 2.8 s\n"
          ]
        },
        {
          "output_type": "execute_result",
          "data": {
            "text/plain": [
              "499999999500000000"
            ]
          },
          "metadata": {},
          "execution_count": 55
        }
      ]
    },
    {
      "cell_type": "code",
      "source": [
        "%time np.sum(range(100000000))"
      ],
      "metadata": {
        "colab": {
          "base_uri": "https://localhost:8080/"
        },
        "id": "a7K9lkUlCgRo",
        "outputId": "ef114244-1938-47b7-eb3d-e72fa143baf8"
      },
      "execution_count": 56,
      "outputs": [
        {
          "output_type": "stream",
          "name": "stdout",
          "text": [
            "CPU times: user 12 s, sys: 2.09 s, total: 14.1 s\n",
            "Wall time: 14.1 s\n"
          ]
        },
        {
          "output_type": "execute_result",
          "data": {
            "text/plain": [
              "4999999950000000"
            ]
          },
          "metadata": {},
          "execution_count": 56
        }
      ]
    },
    {
      "cell_type": "markdown",
      "source": [
        "## copy\n",
        "\n",
        " ※ 대입문 6가지\n",
        " a = 1\n",
        " a = b = 1\n",
        " a,*b = 1,2,3 #튜플 할당\n",
        " a += 1\n",
        " global , nolocal"
      ],
      "metadata": {
        "id": "UX6er-J6-FEp"
      }
    },
    {
      "cell_type": "markdown",
      "source": [
        "#python 에서 copy"
      ],
      "metadata": {
        "id": "WeTE6KkQGkuV"
      }
    },
    {
      "cell_type": "code",
      "source": [
        "a= [1,2,3] #list"
      ],
      "metadata": {
        "id": "utGVLRbQGnEH"
      },
      "execution_count": 57,
      "outputs": []
    },
    {
      "cell_type": "code",
      "source": [
        "b =a"
      ],
      "metadata": {
        "id": "u3RURnWXGpMz"
      },
      "execution_count": 58,
      "outputs": []
    },
    {
      "cell_type": "code",
      "source": [
        "b"
      ],
      "metadata": {
        "colab": {
          "base_uri": "https://localhost:8080/"
        },
        "id": "Lx5n5iiYGqKr",
        "outputId": "113e236e-3318-462a-c908-478b16a2bbed"
      },
      "execution_count": 59,
      "outputs": [
        {
          "output_type": "execute_result",
          "data": {
            "text/plain": [
              "[1, 2, 3]"
            ]
          },
          "metadata": {},
          "execution_count": 59
        }
      ]
    },
    {
      "cell_type": "code",
      "source": [
        "a is b"
      ],
      "metadata": {
        "colab": {
          "base_uri": "https://localhost:8080/"
        },
        "id": "qok_Ka-oGquD",
        "outputId": "28ab8bef-33a4-48ea-ce05-36f344605afd"
      },
      "execution_count": 60,
      "outputs": [
        {
          "output_type": "execute_result",
          "data": {
            "text/plain": [
              "True"
            ]
          },
          "metadata": {},
          "execution_count": 60
        }
      ]
    },
    {
      "cell_type": "code",
      "source": [
        "# a와 b가 메모리 공유\n",
        "# b값을 변경하면 a도 같이 변경된다\n",
        "b[0] = 7"
      ],
      "metadata": {
        "id": "3rl8efCYG-8D"
      },
      "execution_count": 61,
      "outputs": []
    },
    {
      "cell_type": "code",
      "source": [
        "print(b)\n",
        "print(a)"
      ],
      "metadata": {
        "colab": {
          "base_uri": "https://localhost:8080/"
        },
        "id": "_K37jUdCGrvc",
        "outputId": "2c8932cb-16b1-45f2-955d-9496a31f9b44"
      },
      "execution_count": 62,
      "outputs": [
        {
          "output_type": "stream",
          "name": "stdout",
          "text": [
            "[7, 2, 3]\n",
            "[7, 2, 3]\n"
          ]
        }
      ]
    },
    {
      "cell_type": "markdown",
      "source": [
        "1차원일때 copy"
      ],
      "metadata": {
        "id": "Q6MaybnBII60"
      }
    },
    {
      "cell_type": "code",
      "source": [
        " a = [1,2,3]\n"
      ],
      "metadata": {
        "id": "U61bzyQYGgcN"
      },
      "execution_count": 63,
      "outputs": []
    },
    {
      "cell_type": "code",
      "source": [
        "# copy()는 똑같은 값만 가지고 메모리는 공유하지 않는다. 즉 deep copy가 된다.\n",
        "b = a.copy()"
      ],
      "metadata": {
        "id": "T6T2en55HLTm"
      },
      "execution_count": 64,
      "outputs": []
    },
    {
      "cell_type": "code",
      "source": [],
      "metadata": {
        "id": "f8vF3MkvHlfq"
      },
      "execution_count": 64,
      "outputs": []
    },
    {
      "cell_type": "code",
      "source": [
        "a is b"
      ],
      "metadata": {
        "colab": {
          "base_uri": "https://localhost:8080/"
        },
        "id": "gzPG2dbKHOAr",
        "outputId": "3f1ef69d-418f-42f6-b1c5-d3cb9268f5c6"
      },
      "execution_count": 65,
      "outputs": [
        {
          "output_type": "execute_result",
          "data": {
            "text/plain": [
              "False"
            ]
          },
          "metadata": {},
          "execution_count": 65
        }
      ]
    },
    {
      "cell_type": "code",
      "source": [
        "id(a)"
      ],
      "metadata": {
        "colab": {
          "base_uri": "https://localhost:8080/"
        },
        "id": "nbvkjK4mHmUj",
        "outputId": "f07f1798-f1f6-465c-9ef3-a90baf044f00"
      },
      "execution_count": 66,
      "outputs": [
        {
          "output_type": "execute_result",
          "data": {
            "text/plain": [
              "132150358612032"
            ]
          },
          "metadata": {},
          "execution_count": 66
        }
      ]
    },
    {
      "cell_type": "code",
      "source": [
        "id(b)"
      ],
      "metadata": {
        "colab": {
          "base_uri": "https://localhost:8080/"
        },
        "id": "YUjvbheUHnej",
        "outputId": "065e49ba-3aa2-41ab-d465-9e64e25cdcd2"
      },
      "execution_count": 67,
      "outputs": [
        {
          "output_type": "execute_result",
          "data": {
            "text/plain": [
              "132150358342912"
            ]
          },
          "metadata": {},
          "execution_count": 67
        }
      ]
    },
    {
      "cell_type": "code",
      "source": [
        "a == b  #값 비교\n"
      ],
      "metadata": {
        "colab": {
          "base_uri": "https://localhost:8080/"
        },
        "id": "-djWo9ugHooz",
        "outputId": "3248a696-f374-45ab-8de8-ac5f74e887bf"
      },
      "execution_count": 68,
      "outputs": [
        {
          "output_type": "execute_result",
          "data": {
            "text/plain": [
              "True"
            ]
          },
          "metadata": {},
          "execution_count": 68
        }
      ]
    },
    {
      "cell_type": "code",
      "source": [
        "b[0]= 8\n",
        "\n",
        "print(a)\n",
        "print(b)"
      ],
      "metadata": {
        "colab": {
          "base_uri": "https://localhost:8080/"
        },
        "id": "rfgOxcD3HwOj",
        "outputId": "e3fa1af2-53a2-4613-9595-780a52181d1e"
      },
      "execution_count": 69,
      "outputs": [
        {
          "output_type": "stream",
          "name": "stdout",
          "text": [
            "[1, 2, 3]\n",
            "[8, 2, 3]\n"
          ]
        }
      ]
    },
    {
      "cell_type": "code",
      "source": [
        "print(a is b)\n",
        "print (a == b)"
      ],
      "metadata": {
        "colab": {
          "base_uri": "https://localhost:8080/"
        },
        "id": "UOFigSnrH24U",
        "outputId": "4675fb3f-161d-47d2-f249-f33f199bb30b"
      },
      "execution_count": 70,
      "outputs": [
        {
          "output_type": "stream",
          "name": "stdout",
          "text": [
            "False\n",
            "False\n"
          ]
        }
      ]
    },
    {
      "cell_type": "markdown",
      "source": [
        "list가 2차원 일때 copy"
      ],
      "metadata": {
        "id": "MqL8JZq_ILb8"
      }
    },
    {
      "cell_type": "code",
      "source": [
        "a = [[1,2,3]]"
      ],
      "metadata": {
        "id": "YXz0Ekp6INdL"
      },
      "execution_count": 71,
      "outputs": []
    },
    {
      "cell_type": "code",
      "source": [
        "type(a)"
      ],
      "metadata": {
        "colab": {
          "base_uri": "https://localhost:8080/"
        },
        "id": "Li-w4SZMIXLq",
        "outputId": "263ee392-b9a0-40ce-b47c-976d58f9f813"
      },
      "execution_count": 72,
      "outputs": [
        {
          "output_type": "execute_result",
          "data": {
            "text/plain": [
              "list"
            ]
          },
          "metadata": {},
          "execution_count": 72
        }
      ]
    },
    {
      "cell_type": "code",
      "source": [
        "# shallow copy (얕은 카피 )\n",
        "b=a.copy()"
      ],
      "metadata": {
        "id": "-1k83QlVIYpr"
      },
      "execution_count": 73,
      "outputs": []
    },
    {
      "cell_type": "code",
      "source": [
        "print (a is b)\n",
        "print (a == b)"
      ],
      "metadata": {
        "colab": {
          "base_uri": "https://localhost:8080/"
        },
        "id": "Xbt95uEjIapk",
        "outputId": "4532583a-b6ba-4dae-c52a-f7bcff1a2e16"
      },
      "execution_count": 74,
      "outputs": [
        {
          "output_type": "stream",
          "name": "stdout",
          "text": [
            "False\n",
            "True\n"
          ]
        }
      ]
    },
    {
      "cell_type": "code",
      "source": [
        "print(a[0])\n",
        "print(b[0])"
      ],
      "metadata": {
        "colab": {
          "base_uri": "https://localhost:8080/"
        },
        "id": "FTlnUJ3vJyAM",
        "outputId": "f3218a49-b5b5-4a1d-ab1e-257996503a10"
      },
      "execution_count": 75,
      "outputs": [
        {
          "output_type": "stream",
          "name": "stdout",
          "text": [
            "[1, 2, 3]\n",
            "[1, 2, 3]\n"
          ]
        }
      ]
    },
    {
      "cell_type": "code",
      "source": [
        "b[0][0] = 10"
      ],
      "metadata": {
        "id": "5suvoGUIJ9Xi"
      },
      "execution_count": 76,
      "outputs": []
    },
    {
      "cell_type": "code",
      "source": [
        "print(a[0])\n",
        "print(b[0])"
      ],
      "metadata": {
        "colab": {
          "base_uri": "https://localhost:8080/"
        },
        "id": "TTD0DlLKKAwr",
        "outputId": "b57e7e39-bc74-4465-8134-d5b17a43b6d1"
      },
      "execution_count": 77,
      "outputs": [
        {
          "output_type": "stream",
          "name": "stdout",
          "text": [
            "[10, 2, 3]\n",
            "[10, 2, 3]\n"
          ]
        }
      ]
    },
    {
      "cell_type": "code",
      "source": [
        "print(a[0] == b[0])\n",
        "print(a[0] is b[0])"
      ],
      "metadata": {
        "colab": {
          "base_uri": "https://localhost:8080/"
        },
        "id": "0vS0swidKFKp",
        "outputId": "5c207969-444e-4598-b42e-1899f7ff8688"
      },
      "execution_count": 78,
      "outputs": [
        {
          "output_type": "stream",
          "name": "stdout",
          "text": [
            "True\n",
            "True\n"
          ]
        }
      ]
    },
    {
      "cell_type": "code",
      "source": [
        "import copy"
      ],
      "metadata": {
        "id": "Bcnlv6tjJAKh"
      },
      "execution_count": 79,
      "outputs": []
    },
    {
      "cell_type": "code",
      "source": [
        "a = [[1,2,3]]\n",
        "b = copy.deepcopy(a) # list가 2차원 일 때, deep copy를 하기 위해서 copy 모듈에 있는 deepcopy 메소드를 사용한다."
      ],
      "metadata": {
        "id": "uW-efeVdJD0y"
      },
      "execution_count": 80,
      "outputs": []
    },
    {
      "cell_type": "code",
      "source": [
        "print (a is b)  #메모리 주소\n",
        "print (a == b)  # 값 주소"
      ],
      "metadata": {
        "colab": {
          "base_uri": "https://localhost:8080/"
        },
        "id": "iz3e6A2NJVFz",
        "outputId": "f920b954-c8dc-44cf-e96e-b30ac2835d41"
      },
      "execution_count": 81,
      "outputs": [
        {
          "output_type": "stream",
          "name": "stdout",
          "text": [
            "False\n",
            "True\n"
          ]
        }
      ]
    },
    {
      "cell_type": "code",
      "source": [
        "b[0][0] = 10"
      ],
      "metadata": {
        "id": "yEpLVTRqMFaK"
      },
      "execution_count": 82,
      "outputs": []
    },
    {
      "cell_type": "code",
      "source": [
        "print(a[0])\n",
        "print(b[0])"
      ],
      "metadata": {
        "colab": {
          "base_uri": "https://localhost:8080/"
        },
        "id": "Ss5BCrsVMB_z",
        "outputId": "5d2383c3-b5c9-4e0e-a47f-0add556d9878"
      },
      "execution_count": 83,
      "outputs": [
        {
          "output_type": "stream",
          "name": "stdout",
          "text": [
            "[1, 2, 3]\n",
            "[10, 2, 3]\n"
          ]
        }
      ]
    },
    {
      "cell_type": "code",
      "source": [
        "print(a[0] == b[0])\n",
        "print(a[0] is b[0])"
      ],
      "metadata": {
        "colab": {
          "base_uri": "https://localhost:8080/"
        },
        "id": "ap9OnUYTMHeB",
        "outputId": "30b12bc4-fcac-4d1c-9790-eb56343c7263"
      },
      "execution_count": 84,
      "outputs": [
        {
          "output_type": "stream",
          "name": "stdout",
          "text": [
            "False\n",
            "False\n"
          ]
        }
      ]
    },
    {
      "cell_type": "markdown",
      "source": [
        "[:] 는 전체라는 뜻이다.   \n",
        "슬라이싱 방식으로 1차 리스트 일때는 재할당 하면 deep copy가 발생된다.   \n",
        "슬라이싱 방식으로 2차 리스트 이상인 경우는 shallow copy가 발생된다.  "
      ],
      "metadata": {
        "id": "shTjqRJsNCg3"
      }
    },
    {
      "cell_type": "code",
      "source": [
        "a = [1,2,3]\n",
        "b= a[:]\n",
        "\n",
        "print (a is b)\n",
        "print (a == b )\n",
        "\n",
        "a = [[1,2,3]]\n",
        "b = a[:]\n",
        "print (a is b)\n",
        "print (a == b)"
      ],
      "metadata": {
        "colab": {
          "base_uri": "https://localhost:8080/"
        },
        "id": "MLtnJWOZMHca",
        "outputId": "b02df36d-13cb-4f2e-f016-d770c2971f58"
      },
      "execution_count": 85,
      "outputs": [
        {
          "output_type": "stream",
          "name": "stdout",
          "text": [
            "False\n",
            "True\n",
            "False\n",
            "True\n"
          ]
        }
      ]
    },
    {
      "cell_type": "code",
      "source": [
        "m= 100\n",
        "n= m\n",
        "print (m is n )\n",
        "print (m == n )"
      ],
      "metadata": {
        "colab": {
          "base_uri": "https://localhost:8080/"
        },
        "id": "fK14EVzmMuZx",
        "outputId": "b639f793-c08a-41fb-b8db-8192710dead8"
      },
      "execution_count": 86,
      "outputs": [
        {
          "output_type": "stream",
          "name": "stdout",
          "text": [
            "True\n",
            "True\n"
          ]
        }
      ]
    },
    {
      "cell_type": "code",
      "source": [
        "a = 256\n",
        "b = 256\n",
        "\n",
        "a is b   # True\n",
        "\n",
        "a = 257\n",
        "b = 257\n",
        "\n",
        "a is b    #False"
      ],
      "metadata": {
        "colab": {
          "base_uri": "https://localhost:8080/"
        },
        "id": "qYsZD9MlMuYD",
        "outputId": "e2444b8d-9bac-4ffc-8fa5-d28630da12dc"
      },
      "execution_count": 87,
      "outputs": [
        {
          "output_type": "execute_result",
          "data": {
            "text/plain": [
              "False"
            ]
          },
          "metadata": {},
          "execution_count": 87
        }
      ]
    },
    {
      "cell_type": "code",
      "source": [
        " a = [257,2,3]\n",
        " b = a[:]    # a[:] = a.copy()와 같다\n",
        "\n",
        " print( a == b )\n",
        " print(a is b )\n",
        "\n",
        "\n",
        "print(id(a))\n",
        "print(id(b))\n",
        "print(a[0] == b[0])\n",
        "print(a[0] is b[0])"
      ],
      "metadata": {
        "colab": {
          "base_uri": "https://localhost:8080/"
        },
        "id": "XoDjMy_uXcEY",
        "outputId": "404751d0-1fc0-4d35-8efa-3dd8d640367c"
      },
      "execution_count": 88,
      "outputs": [
        {
          "output_type": "stream",
          "name": "stdout",
          "text": [
            "True\n",
            "False\n",
            "132150306356160\n",
            "132150358273792\n",
            "True\n",
            "True\n"
          ]
        }
      ]
    },
    {
      "cell_type": "code",
      "source": [
        "# intering 기법\n",
        "# 파이썬은 느리기 때문에 중간에 cache 저장하는 기법이 있다.\n",
        "# -5에서 256은 파이썬에서 같은 메모리 주소를 사용한다. (interning 기법)\n",
        "# 문자열에서 a-zA-Z0-9는 내부적으로 interning 기법을 사용한다. (한글은 무조건 다른메모리를 사용함.)\n",
        "# is 는 값을 비교\n",
        "\n",
        "m= 256\n",
        "n = 256\n",
        "print (m is n )      ## -5 ~ 256 까지는 같은 메모리를 쓰기때문에 같다\n",
        "\n",
        "m=257\n",
        "n=257\n",
        "print(m is n )       ## 257 이기 때문에 각각 다른 메모리를 써서 False\n",
        "\n",
        "k = 'python3_파이썬'\n",
        "p = 'python3_파이썬'  # 한글은 다른 메모리를 사용함 False 한글빼면 True\n",
        "\n",
        "print(k is p)"
      ],
      "metadata": {
        "colab": {
          "base_uri": "https://localhost:8080/"
        },
        "id": "5ReJceidYJqW",
        "outputId": "597c9a77-5e90-4b54-b7dc-1e8af5d796e9"
      },
      "execution_count": 89,
      "outputs": [
        {
          "output_type": "stream",
          "name": "stdout",
          "text": [
            "True\n",
            "False\n",
            "False\n"
          ]
        }
      ]
    },
    {
      "cell_type": "code",
      "source": [
        "a = [[1,2,3],[4,5,6]]\n",
        "b = a\n",
        "\n",
        "print( a is b)\n",
        "print (a == b)\n"
      ],
      "metadata": {
        "colab": {
          "base_uri": "https://localhost:8080/"
        },
        "id": "jeC4mirOwKCi",
        "outputId": "af9b0f01-2ad9-411a-83b6-28e03333811d"
      },
      "execution_count": 91,
      "outputs": [
        {
          "output_type": "stream",
          "name": "stdout",
          "text": [
            "True\n",
            "True\n"
          ]
        }
      ]
    },
    {
      "cell_type": "code",
      "source": [
        "c = a.copy()\n",
        "\n",
        "print(a is c)\n",
        "print( a == c)\n",
        "\n",
        "a[0][0] = 20\n",
        "print( a is c)\n",
        "print(a == c)"
      ],
      "metadata": {
        "colab": {
          "base_uri": "https://localhost:8080/"
        },
        "id": "ShKdPX_0w5mC",
        "outputId": "9a724db3-fb6d-4b60-94d9-95a081df0885"
      },
      "execution_count": 93,
      "outputs": [
        {
          "output_type": "stream",
          "name": "stdout",
          "text": [
            "False\n",
            "True\n",
            "False\n",
            "True\n"
          ]
        }
      ]
    },
    {
      "cell_type": "markdown",
      "source": [
        "numpy의 copy"
      ],
      "metadata": {
        "id": "nriXvojmAJt1"
      }
    },
    {
      "cell_type": "code",
      "source": [
        "import copy\n",
        "\n",
        "d = copy. deepcopy(a)\n",
        "\n",
        "\n",
        "d[0][0] = 30\n",
        "\n",
        "print(d is a)   ## is는 주소비교\n",
        "print(d == a)   ## ==는 값 비교\n",
        "\n",
        "print(d[0] is a[0])\n",
        "print(d[0] == a[0])\n",
        "\n",
        "print(d[0][0] is a[0][0])\n",
        "print(d[0][0] == a[0][0])\n",
        "\n",
        "print(d[1] is a[1])\n",
        "print(d[1] == a[1])"
      ],
      "metadata": {
        "colab": {
          "base_uri": "https://localhost:8080/"
        },
        "id": "edU3P93r3MY-",
        "outputId": "786452b1-9554-4c2a-a905-30db86381784"
      },
      "execution_count": 97,
      "outputs": [
        {
          "output_type": "stream",
          "name": "stdout",
          "text": [
            "False\n",
            "False\n",
            "False\n",
            "False\n",
            "False\n",
            "False\n",
            "False\n",
            "True\n"
          ]
        }
      ]
    },
    {
      "cell_type": "code",
      "source": [
        "a = b = np.array([1,2,3])\n"
      ],
      "metadata": {
        "id": "bN6djOuQ3MX2"
      },
      "execution_count": 98,
      "outputs": []
    },
    {
      "cell_type": "code",
      "source": [
        "print(a is b)\n",
        "print (a == b)"
      ],
      "metadata": {
        "colab": {
          "base_uri": "https://localhost:8080/"
        },
        "id": "9GSjwj26_NX0",
        "outputId": "1107f28e-a7c0-4d10-eba1-b8803dcb353c"
      },
      "execution_count": 100,
      "outputs": [
        {
          "output_type": "stream",
          "name": "stdout",
          "text": [
            "True\n",
            "[ True  True  True]\n"
          ]
        }
      ]
    },
    {
      "cell_type": "code",
      "source": [
        "a[0]"
      ],
      "metadata": {
        "colab": {
          "base_uri": "https://localhost:8080/"
        },
        "id": "jgmHAnWF_RRk",
        "outputId": "ca6d0daa-53ec-4de0-eb6d-1c569823bb9c"
      },
      "execution_count": 102,
      "outputs": [
        {
          "output_type": "execute_result",
          "data": {
            "text/plain": [
              "1"
            ]
          },
          "metadata": {},
          "execution_count": 102
        }
      ]
    },
    {
      "cell_type": "code",
      "source": [
        "a[:]"
      ],
      "metadata": {
        "colab": {
          "base_uri": "https://localhost:8080/"
        },
        "id": "H9EfQrxC_T7V",
        "outputId": "9858e603-e4cb-47f1-a2a8-80c29e254dec"
      },
      "execution_count": 105,
      "outputs": [
        {
          "output_type": "execute_result",
          "data": {
            "text/plain": [
              "array([1, 2, 3])"
            ]
          },
          "metadata": {},
          "execution_count": 105
        }
      ]
    },
    {
      "cell_type": "code",
      "source": [
        "a[0] = 100\n",
        "print(a[0])\n",
        "print(b[0])"
      ],
      "metadata": {
        "colab": {
          "base_uri": "https://localhost:8080/"
        },
        "id": "jN-zxCAz_bG7",
        "outputId": "d888805a-2d6a-49b6-d7c9-d0d3c08777e1"
      },
      "execution_count": 107,
      "outputs": [
        {
          "output_type": "stream",
          "name": "stdout",
          "text": [
            "100\n",
            "100\n"
          ]
        }
      ]
    },
    {
      "cell_type": "markdown",
      "source": [
        "array는homogeneous, sequence, mutable 이다.  \n",
        "list는 heterogeneous, sequence, mutable 이다.  "
      ],
      "metadata": {
        "id": "z_Vn5YnGBm9-"
      }
    },
    {
      "cell_type": "code",
      "source": [
        "a = np.array([1,2,3])\n",
        "#numpy는 기본적으로 deepcopy가 발생된다.\n",
        "\n",
        "b = a.copy()\n",
        "\n",
        "print(a is b)\n",
        "print(a == b )\n"
      ],
      "metadata": {
        "colab": {
          "base_uri": "https://localhost:8080/"
        },
        "id": "ky2NMO-PAN8c",
        "outputId": "7efa2fbd-c18c-48da-a6c0-bf10ac0961d4"
      },
      "execution_count": 108,
      "outputs": [
        {
          "output_type": "stream",
          "name": "stdout",
          "text": [
            "False\n",
            "[ True  True  True]\n"
          ]
        }
      ]
    },
    {
      "cell_type": "markdown",
      "source": [
        "### as 계열\n",
        "다른 데이터 타입을 가져와 바꿔서 사용할 때는 as라는 이름이 보통 붙는다.   \n"
      ],
      "metadata": {
        "id": "nAvH_gSSCT4P"
      }
    },
    {
      "cell_type": "code",
      "source": [
        "a = [1.5,2.5,3.5]\n",
        "b = np.array(a)\n",
        "\n",
        "print(type(a))\n",
        "print(type(b))\n",
        "print(type(a[0]))\n",
        "print(type(b[0]))"
      ],
      "metadata": {
        "colab": {
          "base_uri": "https://localhost:8080/"
        },
        "id": "AQurPAwyCQXo",
        "outputId": "e129fc33-8ec0-4178-eb7a-68d79dd48e0e"
      },
      "execution_count": 114,
      "outputs": [
        {
          "output_type": "stream",
          "name": "stdout",
          "text": [
            "<class 'list'>\n",
            "<class 'numpy.ndarray'>\n",
            "<class 'float'>\n",
            "<class 'numpy.float64'>\n"
          ]
        }
      ]
    },
    {
      "cell_type": "code",
      "source": [
        "a = [1.5,2.5,3.5]\n",
        "b = np.asarray(a)\n",
        "\n",
        "print(type(a))\n",
        "print(type(b))\n",
        "print(type(a[0]))\n",
        "print(type(b[0]))"
      ],
      "metadata": {
        "colab": {
          "base_uri": "https://localhost:8080/"
        },
        "id": "4tHA2lTzDJmv",
        "outputId": "2b09455e-2992-48f3-cb92-5b58957f0503"
      },
      "execution_count": 115,
      "outputs": [
        {
          "output_type": "stream",
          "name": "stdout",
          "text": [
            "<class 'list'>\n",
            "<class 'numpy.ndarray'>\n",
            "<class 'float'>\n",
            "<class 'numpy.float64'>\n"
          ]
        }
      ]
    },
    {
      "cell_type": "code",
      "source": [
        "a = [1,2,3]\n",
        "b = np.asfarray(a)\n",
        "\n",
        "print(type(a))\n",
        "print(type(b))\n",
        "print(type(a[0]))\n",
        "print(type(b[0]))\n"
      ],
      "metadata": {
        "colab": {
          "base_uri": "https://localhost:8080/"
        },
        "id": "e-R4MO_FDu--",
        "outputId": "5ef1eff0-b130-4e98-a7d2-c69b8757e3e4"
      },
      "execution_count": 116,
      "outputs": [
        {
          "output_type": "stream",
          "name": "stdout",
          "text": [
            "<class 'list'>\n",
            "<class 'numpy.ndarray'>\n",
            "<class 'int'>\n",
            "<class 'numpy.float64'>\n"
          ]
        }
      ]
    },
    {
      "cell_type": "markdown",
      "source": [
        "## 값 가져오기"
      ],
      "metadata": {
        "id": "cxe3CtZhEWEK"
      }
    },
    {
      "cell_type": "markdown",
      "source": [
        "### (1) 인덱싱, 슬라이싱 방법 가능"
      ],
      "metadata": {
        "id": "uHUGtHH9O6lo"
      }
    },
    {
      "cell_type": "code",
      "source": [
        "a = [[1,2,3],[4,5,6]] # 파이썬 리스트\n",
        "b = np.array ([[1,2,3],[4,5,6]]) #넘파이의 array (배열)\n",
        "\n",
        "print(a[0])\n",
        "print(b[0])"
      ],
      "metadata": {
        "colab": {
          "base_uri": "https://localhost:8080/"
        },
        "id": "Zh2ZPNxnEXeh",
        "outputId": "84d7bf7e-5cdb-46f0-bb2d-d297cf1a1963"
      },
      "execution_count": 121,
      "outputs": [
        {
          "output_type": "stream",
          "name": "stdout",
          "text": [
            "[1, 2, 3]\n",
            "[1 2 3]\n"
          ]
        }
      ]
    },
    {
      "cell_type": "code",
      "source": [
        "print(type(a[0]))   #리스트\n",
        "print(type(b[0]))    # 배열"
      ],
      "metadata": {
        "colab": {
          "base_uri": "https://localhost:8080/"
        },
        "id": "Wswjwq8EEqI0",
        "outputId": "3d0a60ec-e38e-4194-b1a7-cf9cb1c4bd42"
      },
      "execution_count": 122,
      "outputs": [
        {
          "output_type": "stream",
          "name": "stdout",
          "text": [
            "<class 'list'>\n",
            "<class 'numpy.ndarray'>\n"
          ]
        }
      ]
    },
    {
      "cell_type": "code",
      "source": [
        "#print(a[0,1])\n",
        "print(a[0][1])\n",
        "print(b[0,1]) # array일때 인덱스 이렇게 가능함"
      ],
      "metadata": {
        "colab": {
          "base_uri": "https://localhost:8080/"
        },
        "id": "s8pXX-zQF0UZ",
        "outputId": "fa7d6132-cf98-4e74-93f4-ab60d477d822"
      },
      "execution_count": 129,
      "outputs": [
        {
          "output_type": "stream",
          "name": "stdout",
          "text": [
            "2\n",
            "2\n"
          ]
        }
      ]
    },
    {
      "cell_type": "code",
      "source": [
        "print(a[slice(0,1)]) # 0행부터 1행 미만의 데이터를 가져온다.\n",
        "print(a[0])\n",
        "\n",
        "print(type(a[slice(0,1)]))\n",
        "print(type(a[0]))"
      ],
      "metadata": {
        "colab": {
          "base_uri": "https://localhost:8080/"
        },
        "id": "5vo50VcJGqmL",
        "outputId": "f5f003ce-17d3-4724-8345-e56e0e02dc5a"
      },
      "execution_count": 134,
      "outputs": [
        {
          "output_type": "stream",
          "name": "stdout",
          "text": [
            "[[1, 2, 3]]\n",
            "[1, 2, 3]\n",
            "<class 'list'>\n",
            "<class 'list'>\n"
          ]
        }
      ]
    },
    {
      "cell_type": "markdown",
      "source": [
        "numpy는 기본적으로 인덱싱/슬라이싱할 때 comma를 사용 할 수 있다.  "
      ],
      "metadata": {
        "id": "ucyu6ft-ICGZ"
      }
    },
    {
      "cell_type": "code",
      "source": [
        "#numpy\n",
        "\n",
        "print(type(b))\n",
        "print(b[0,1])     # b [행,열]   인덱싱\n",
        "print(b[0][1])    # b [행][열]  인덱싱\n",
        "print(b[0,-1])    #             인덱싱\n",
        "print(b[0:1,0:2]) #             슬라이싱 [[1 2]]\n",
        "print(b[0:2,0:2]) #             [[12][45]]\n",
        "\n",
        "\n",
        "\n"
      ],
      "metadata": {
        "colab": {
          "base_uri": "https://localhost:8080/"
        },
        "id": "aFDlqgf3HPog",
        "outputId": "df69de7b-f71f-4712-cff3-76f4260f7d31"
      },
      "execution_count": 138,
      "outputs": [
        {
          "output_type": "stream",
          "name": "stdout",
          "text": [
            "<class 'numpy.ndarray'>\n",
            "2\n",
            "2\n",
            "3\n",
            "[[1 2]]\n",
            "[[1 2]\n",
            " [4 5]]\n"
          ]
        }
      ]
    },
    {
      "cell_type": "code",
      "source": [
        "#python\n",
        "print(type(a))\n",
        "print(a[0][1])\n",
        "print(a[0:1])\n",
        "print(a[0:1 ][0:1])"
      ],
      "metadata": {
        "colab": {
          "base_uri": "https://localhost:8080/"
        },
        "id": "UBUj7S0rMXNP",
        "outputId": "989b2f1f-aa8a-4acb-84cb-44c4194a8286"
      },
      "execution_count": 144,
      "outputs": [
        {
          "output_type": "stream",
          "name": "stdout",
          "text": [
            "<class 'list'>\n",
            "2\n",
            "[[1, 2, 3]]\n",
            "[[1, 2, 3]]\n"
          ]
        }
      ]
    },
    {
      "cell_type": "markdown",
      "source": [
        "(2) boolen indexing\n",
        "\n"
      ],
      "metadata": {
        "id": "hsO4mGJAPKjS"
      }
    },
    {
      "cell_type": "code",
      "source": [
        "a=[[1,2,3],[4,5,6]]"
      ],
      "metadata": {
        "id": "LnbL4iZpPO7Q"
      },
      "execution_count": 145,
      "outputs": []
    },
    {
      "cell_type": "code",
      "source": [
        "print(type(a))\n",
        "print(a*3)\n",
        "#a>3 은안됨"
      ],
      "metadata": {
        "colab": {
          "base_uri": "https://localhost:8080/"
        },
        "id": "c2vCb3unPUe-",
        "outputId": "3b557b46-49b3-48ab-dde2-5c4cbe698d1f"
      },
      "execution_count": 148,
      "outputs": [
        {
          "output_type": "stream",
          "name": "stdout",
          "text": [
            "<class 'list'>\n",
            "[[1, 2, 3], [4, 5, 6], [1, 2, 3], [4, 5, 6], [1, 2, 3], [4, 5, 6]]\n"
          ]
        }
      ]
    },
    {
      "cell_type": "code",
      "source": [
        "b = np. array([[1,2,3,4]])\n",
        "c = np. array([[2,2,2,2]])\n",
        "\n",
        "b>c"
      ],
      "metadata": {
        "colab": {
          "base_uri": "https://localhost:8080/"
        },
        "id": "k9Dh5cpQPx8Y",
        "outputId": "d47695aa-43a7-43fe-8f1a-89ed8cddabc6"
      },
      "execution_count": 151,
      "outputs": [
        {
          "output_type": "execute_result",
          "data": {
            "text/plain": [
              "array([[False, False,  True,  True]])"
            ]
          },
          "metadata": {},
          "execution_count": 151
        }
      ]
    },
    {
      "cell_type": "markdown",
      "source": [
        "array 는 scalar와 연산하면 elementwise로 계산한다.   \n",
        "(elementswise: 원소별로 각각 계산이 된다.)   "
      ],
      "metadata": {
        "id": "QTCPhtedQaCC"
      }
    },
    {
      "cell_type": "markdown",
      "source": [],
      "metadata": {
        "id": "I5bXgg4LQZ__"
      }
    },
    {
      "cell_type": "code",
      "source": [
        "b>2"
      ],
      "metadata": {
        "colab": {
          "base_uri": "https://localhost:8080/"
        },
        "id": "QTtEVYXuQNuW",
        "outputId": "d33927fc-4776-4b7a-912b-7305528a5618"
      },
      "execution_count": 152,
      "outputs": [
        {
          "output_type": "execute_result",
          "data": {
            "text/plain": [
              "array([[False, False,  True,  True]])"
            ]
          },
          "metadata": {},
          "execution_count": 152
        }
      ]
    },
    {
      "cell_type": "markdown",
      "source": [],
      "metadata": {
        "id": "uTYAdkJGPKhu"
      }
    },
    {
      "cell_type": "code",
      "source": [
        "b[np.array([[False,False,True,True]])]"
      ],
      "metadata": {
        "colab": {
          "base_uri": "https://localhost:8080/"
        },
        "id": "K2QkOfVJPJ9Q",
        "outputId": "42916336-edff-4ee3-e4ab-5054197cbdb9"
      },
      "execution_count": 154,
      "outputs": [
        {
          "output_type": "execute_result",
          "data": {
            "text/plain": [
              "array([3, 4])"
            ]
          },
          "metadata": {},
          "execution_count": 154
        }
      ]
    },
    {
      "cell_type": "code",
      "source": [
        "b[b>2]"
      ],
      "metadata": {
        "colab": {
          "base_uri": "https://localhost:8080/"
        },
        "id": "X7Ws8ycSReKY",
        "outputId": "0f46f71a-4959-4179-db83-2a269e8f02fb"
      },
      "execution_count": 155,
      "outputs": [
        {
          "output_type": "execute_result",
          "data": {
            "text/plain": [
              "array([3, 4])"
            ]
          },
          "metadata": {},
          "execution_count": 155
        }
      ]
    },
    {
      "cell_type": "markdown",
      "source": [
        "nu에서 boolean indexing조건\n",
        " - array만 가능하다.\n",
        " -numpy True, False로만 가능하다.\n",
        " -shape이 맞아야 한다. (개수가 맞을때만 사용할수있다.)\n",
        ""
      ],
      "metadata": {
        "id": "NMe0-ueMSjIc"
      }
    },
    {
      "cell_type": "markdown",
      "source": [
        "(3) fancy indexing"
      ],
      "metadata": {
        "id": "H8B70kjlSjGq"
      }
    },
    {
      "cell_type": "code",
      "source": [
        "#np.arange([start,]end [step])\n",
        "# reshape(행 갯수, 열갯수) : 배열의 구조변경\n",
        "a= np.arange(100)\n",
        "b= a.reshape(20, 5)\n",
        "print(a.shape)\n",
        "print(b.shape)\n",
        "\n",
        "b=np.arange(100).reshape(20,5)\n",
        "b"
      ],
      "metadata": {
        "colab": {
          "base_uri": "https://localhost:8080/"
        },
        "id": "smqOhNVFTeUs",
        "outputId": "051a9e8a-41d3-4c89-93a2-7a12f953ac02"
      },
      "execution_count": 168,
      "outputs": [
        {
          "output_type": "stream",
          "name": "stdout",
          "text": [
            "(100,)\n",
            "(20, 5)\n"
          ]
        },
        {
          "output_type": "execute_result",
          "data": {
            "text/plain": [
              "array([[ 0,  1,  2,  3,  4],\n",
              "       [ 5,  6,  7,  8,  9],\n",
              "       [10, 11, 12, 13, 14],\n",
              "       [15, 16, 17, 18, 19],\n",
              "       [20, 21, 22, 23, 24],\n",
              "       [25, 26, 27, 28, 29],\n",
              "       [30, 31, 32, 33, 34],\n",
              "       [35, 36, 37, 38, 39],\n",
              "       [40, 41, 42, 43, 44],\n",
              "       [45, 46, 47, 48, 49],\n",
              "       [50, 51, 52, 53, 54],\n",
              "       [55, 56, 57, 58, 59],\n",
              "       [60, 61, 62, 63, 64],\n",
              "       [65, 66, 67, 68, 69],\n",
              "       [70, 71, 72, 73, 74],\n",
              "       [75, 76, 77, 78, 79],\n",
              "       [80, 81, 82, 83, 84],\n",
              "       [85, 86, 87, 88, 89],\n",
              "       [90, 91, 92, 93, 94],\n",
              "       [95, 96, 97, 98, 99]])"
            ]
          },
          "metadata": {},
          "execution_count": 168
        }
      ]
    },
    {
      "cell_type": "code",
      "source": [
        "#print(b[:])  전체를 가져온다 b[:,:]와 같다.\n",
        "# print(b[1,3])   #b[행,열]   / 인덱싱으로 가지고오면 1차원\n",
        "# print(b[1:3,2:4]) # 1행부터 3행미만, 2열부터 4열미만의 데이터를 가져온다\n",
        "print(b[[1,3,5],[0,2,4]])  # 1행 0열 . 3행2열 5행 4열의 데이터를 가져온다\n",
        "print(b[[1,3,5],])  # 1행 3행 5행의 데이터를 가져온다\n",
        "\n",
        "\n",
        "print(b[:,[0,2,4]])    #0 열, 2열, 4열의 데이터를 가져온다"
      ],
      "metadata": {
        "colab": {
          "base_uri": "https://localhost:8080/"
        },
        "id": "J58iTpgDUb7M",
        "outputId": "f6a860de-8705-41a6-c469-1f14206941d8"
      },
      "execution_count": 176,
      "outputs": [
        {
          "output_type": "stream",
          "name": "stdout",
          "text": [
            "[ 5 17 29]\n",
            "[[ 5  6  7  8  9]\n",
            " [15 16 17 18 19]\n",
            " [25 26 27 28 29]]\n",
            "[[ 0  2  4]\n",
            " [ 5  7  9]\n",
            " [10 12 14]\n",
            " [15 17 19]\n",
            " [20 22 24]\n",
            " [25 27 29]\n",
            " [30 32 34]\n",
            " [35 37 39]\n",
            " [40 42 44]\n",
            " [45 47 49]\n",
            " [50 52 54]\n",
            " [55 57 59]\n",
            " [60 62 64]\n",
            " [65 67 69]\n",
            " [70 72 74]\n",
            " [75 77 79]\n",
            " [80 82 84]\n",
            " [85 87 89]\n",
            " [90 92 94]\n",
            " [95 97 99]]\n"
          ]
        }
      ]
    },
    {
      "cell_type": "code",
      "source": [
        "#fancy indexing 주의사항\n",
        "\n",
        "#print( b[[1,3,4],[0,2,]]) #행과 열의개수를 맞춰야함\n",
        "\n",
        "# print(b[[:],[1,2,3]])# fancying indexing에서는 슬라이싱 사용할수없음\n"
      ],
      "metadata": {
        "id": "oJ8l3sS2axJQ"
      },
      "execution_count": 182,
      "outputs": []
    },
    {
      "cell_type": "code",
      "source": [
        "#broadcast로 처리가 되어서 개수가 다르지만 정상적으로 수행한다.\n",
        "print(b[[1,3,4,],[0]]) # 자동으로 [0,0,0]으로 인식함(꼭 한자리만되는건 아님)"
      ],
      "metadata": {
        "colab": {
          "base_uri": "https://localhost:8080/"
        },
        "id": "z4ftlfKpbok-",
        "outputId": "77a11b44-d226-4a1f-8c30-6a2fd63d2b28"
      },
      "execution_count": 188,
      "outputs": [
        {
          "output_type": "stream",
          "name": "stdout",
          "text": [
            "[ 5 15 20]\n"
          ]
        }
      ]
    },
    {
      "cell_type": "code",
      "source": [
        "#print(b[[0,1,3,4],[0,1]])"
      ],
      "metadata": {
        "id": "FgWSIqZ4b_tF"
      },
      "execution_count": 191,
      "outputs": []
    },
    {
      "cell_type": "code",
      "source": [
        "m = np.arange(1,13).reshape(2,6)\n",
        "#n = np.array([[2,2]])\n",
        "n= np.array([[2,2,2,2,2,2]])\n",
        "\n",
        "print(m)\n",
        "print(m.shape)\n",
        "print(n)\n",
        "print(n.shape)"
      ],
      "metadata": {
        "colab": {
          "base_uri": "https://localhost:8080/"
        },
        "id": "qf1QPM4fdDoB",
        "outputId": "7ec6a217-547d-464f-a191-b710f3fdf6ea"
      },
      "execution_count": 216,
      "outputs": [
        {
          "output_type": "stream",
          "name": "stdout",
          "text": [
            "[[ 1  2  3  4  5  6]\n",
            " [ 7  8  9 10 11 12]]\n",
            "(2, 6)\n",
            "[[2 2 2 2 2 2]]\n",
            "(1, 6)\n"
          ]
        }
      ]
    },
    {
      "cell_type": "code",
      "source": [
        "print(m+n)"
      ],
      "metadata": {
        "colab": {
          "base_uri": "https://localhost:8080/"
        },
        "id": "7mAILgAseSHI",
        "outputId": "8f2555b4-7958-4a40-fb88-9577dec2ee56"
      },
      "execution_count": 217,
      "outputs": [
        {
          "output_type": "stream",
          "name": "stdout",
          "text": [
            "[[ 3  4  5  6  7  8]\n",
            " [ 9 10 11 12 13 14]]\n"
          ]
        }
      ]
    },
    {
      "cell_type": "markdown",
      "source": [
        "## 3차원에서 이상에서 차원구분법"
      ],
      "metadata": {
        "id": "3dU8EP4Ih0kB"
      }
    },
    {
      "cell_type": "code",
      "source": [
        "b= np.arange(24).reshape(2,3,4)  #3차원 (2층(면)), 3행 4열\n",
        "b"
      ],
      "metadata": {
        "colab": {
          "base_uri": "https://localhost:8080/"
        },
        "id": "bvYj2Eugh1Oi",
        "outputId": "cadbefcd-db6a-41b0-94f7-e37fd473a65c"
      },
      "execution_count": 235,
      "outputs": [
        {
          "output_type": "execute_result",
          "data": {
            "text/plain": [
              "array([[[ 0,  1,  2,  3],\n",
              "        [ 4,  5,  6,  7],\n",
              "        [ 8,  9, 10, 11]],\n",
              "\n",
              "       [[12, 13, 14, 15],\n",
              "        [16, 17, 18, 19],\n",
              "        [20, 21, 22, 23]]])"
            ]
          },
          "metadata": {},
          "execution_count": 235
        }
      ]
    },
    {
      "cell_type": "code",
      "source": [
        "b[0] # 2차원으로 반환"
      ],
      "metadata": {
        "colab": {
          "base_uri": "https://localhost:8080/"
        },
        "id": "Znc4XpcOh5eX",
        "outputId": "d5c18cba-63d1-436f-b0ae-d04c341e08f3"
      },
      "execution_count": 220,
      "outputs": [
        {
          "output_type": "execute_result",
          "data": {
            "text/plain": [
              "array([[ 0,  1,  2,  3],\n",
              "       [ 4,  5,  6,  7],\n",
              "       [ 8,  9, 10, 11]])"
            ]
          },
          "metadata": {},
          "execution_count": 220
        }
      ]
    },
    {
      "cell_type": "code",
      "source": [
        "b[0][0] # 1차원으로 반환"
      ],
      "metadata": {
        "colab": {
          "base_uri": "https://localhost:8080/"
        },
        "id": "nNzgb2PMh_Tv",
        "outputId": "32da8026-ef4e-471f-dc20-aa0ac89c7a84"
      },
      "execution_count": 222,
      "outputs": [
        {
          "output_type": "execute_result",
          "data": {
            "text/plain": [
              "array([0, 1, 2, 3])"
            ]
          },
          "metadata": {},
          "execution_count": 222
        }
      ]
    },
    {
      "cell_type": "code",
      "source": [
        "b[1,1]"
      ],
      "metadata": {
        "colab": {
          "base_uri": "https://localhost:8080/"
        },
        "id": "kNWDdylFiimj",
        "outputId": "e16d6b20-b676-4a3d-e981-bb6c9f43cd0d"
      },
      "execution_count": 224,
      "outputs": [
        {
          "output_type": "execute_result",
          "data": {
            "text/plain": [
              "array([16, 17, 18, 19])"
            ]
          },
          "metadata": {},
          "execution_count": 224
        }
      ]
    },
    {
      "cell_type": "code",
      "source": [
        "b[0,1,3] # 0공간 1행 3열"
      ],
      "metadata": {
        "colab": {
          "base_uri": "https://localhost:8080/"
        },
        "id": "2gN3fFJfipFK",
        "outputId": "46571c89-c396-47f1-b7b3-d57325b1b1dd"
      },
      "execution_count": 226,
      "outputs": [
        {
          "output_type": "execute_result",
          "data": {
            "text/plain": [
              "7"
            ]
          },
          "metadata": {},
          "execution_count": 226
        }
      ]
    },
    {
      "cell_type": "code",
      "source": [
        "b[:,1,3] # 모든 공간 1행 3열"
      ],
      "metadata": {
        "colab": {
          "base_uri": "https://localhost:8080/"
        },
        "id": "G7VLco_GjeR7",
        "outputId": "df35cf72-51eb-4b12-da89-bd90f3cfc3db"
      },
      "execution_count": 227,
      "outputs": [
        {
          "output_type": "execute_result",
          "data": {
            "text/plain": [
              "array([ 7, 19])"
            ]
          },
          "metadata": {},
          "execution_count": 227
        }
      ]
    },
    {
      "cell_type": "code",
      "source": [
        "b[:,:,1] # 모든층, 모든 행의 1열"
      ],
      "metadata": {
        "colab": {
          "base_uri": "https://localhost:8080/"
        },
        "id": "9Q1aPTD6jirL",
        "outputId": "db50418f-7686-4a9c-9c45-25f158cb4fde"
      },
      "execution_count": 228,
      "outputs": [
        {
          "output_type": "execute_result",
          "data": {
            "text/plain": [
              "array([[ 1,  5,  9],\n",
              "       [13, 17, 21]])"
            ]
          },
          "metadata": {},
          "execution_count": 228
        }
      ]
    },
    {
      "cell_type": "code",
      "source": [
        "m= np.arange(1,9).reshape(2,4)\n",
        "# n= np.array([2])    #(1,)\n",
        "# n= np.array([[2]])  #(1,1)\n",
        "\n",
        "n=np.array([[1,2,3,4]])  #(1,4)\n",
        "# n=np.array([1,2,3,4]) #(4,)\n",
        "n=np.array([[1],[2]])   #(2,1)\n",
        "\n",
        "\n",
        "print(m)\n",
        "print(m.shape)\n",
        "print(n)\n",
        "print(n.shape)"
      ],
      "metadata": {
        "colab": {
          "base_uri": "https://localhost:8080/"
        },
        "id": "lj1KpWZX2quo",
        "outputId": "1b52c47e-ab4b-42a8-9c9f-6e47cd79134a"
      },
      "execution_count": 231,
      "outputs": [
        {
          "output_type": "stream",
          "name": "stdout",
          "text": [
            "[[1 2 3 4]\n",
            " [5 6 7 8]]\n",
            "(2, 4)\n",
            "[[1]\n",
            " [2]]\n",
            "(2, 1)\n"
          ]
        }
      ]
    },
    {
      "cell_type": "markdown",
      "source": [
        "###fancy indexing 과 indexing 차이\n",
        "- indexing은 원래차원에서 하나 감소해서 가져오고 fancy indexing은 원래 차원 그대로 가져온다.  \n",
        "\n",
        "-"
      ],
      "metadata": {
        "id": "XCxTNl-n4wXW"
      }
    },
    {
      "cell_type": "code",
      "source": [
        "#indexing은 차원이 하나 감소해서 가져온다 (3차원을 2차원으로 가져온다.)\n",
        "b [0]"
      ],
      "metadata": {
        "colab": {
          "base_uri": "https://localhost:8080/"
        },
        "id": "6mjKEwr_5DG0",
        "outputId": "0c3ec243-7b76-4c85-eacf-785238fee618"
      },
      "execution_count": 236,
      "outputs": [
        {
          "output_type": "execute_result",
          "data": {
            "text/plain": [
              "array([[ 0,  1,  2,  3],\n",
              "       [ 4,  5,  6,  7],\n",
              "       [ 8,  9, 10, 11]])"
            ]
          },
          "metadata": {},
          "execution_count": 236
        }
      ]
    },
    {
      "cell_type": "code",
      "source": [
        "#fancy indexing은 원래 3차원 그대로 가지고온다.\n",
        "b[[0]]"
      ],
      "metadata": {
        "colab": {
          "base_uri": "https://localhost:8080/"
        },
        "id": "svcqGeOL4H0t",
        "outputId": "fae5a289-207f-46ce-98ec-025509fe601c"
      },
      "execution_count": 237,
      "outputs": [
        {
          "output_type": "execute_result",
          "data": {
            "text/plain": [
              "array([[[ 0,  1,  2,  3],\n",
              "        [ 4,  5,  6,  7],\n",
              "        [ 8,  9, 10, 11]]])"
            ]
          },
          "metadata": {},
          "execution_count": 237
        }
      ]
    },
    {
      "cell_type": "code",
      "source": [
        "#b[0]은 b[0,:,:] 의 단축 표현법이다.\n",
        "b[0,:,:]"
      ],
      "metadata": {
        "colab": {
          "base_uri": "https://localhost:8080/"
        },
        "id": "rQynuUet4Hy_",
        "outputId": "5ab32d79-8f93-4391-d08f-e815293c40b5"
      },
      "execution_count": 242,
      "outputs": [
        {
          "output_type": "execute_result",
          "data": {
            "text/plain": [
              "array([[ 0,  1,  2,  3],\n",
              "       [ 4,  5,  6,  7],\n",
              "       [ 8,  9, 10, 11]])"
            ]
          },
          "metadata": {},
          "execution_count": 242
        }
      ]
    },
    {
      "cell_type": "code",
      "source": [
        "# b[[0]] b[[0],:,:] 의 단축 표현법이다.\n",
        "b[[0],:,:]"
      ],
      "metadata": {
        "colab": {
          "base_uri": "https://localhost:8080/"
        },
        "id": "8cskfuiP5679",
        "outputId": "d8df9576-c093-43ef-b3ae-237f00caba98"
      },
      "execution_count": 243,
      "outputs": [
        {
          "output_type": "execute_result",
          "data": {
            "text/plain": [
              "array([[[ 0,  1,  2,  3],\n",
              "        [ 4,  5,  6,  7],\n",
              "        [ 8,  9, 10, 11]]])"
            ]
          },
          "metadata": {},
          "execution_count": 243
        }
      ]
    },
    {
      "cell_type": "markdown",
      "source": [
        "## Ellipsis\n",
        "- ...(Ellipsis)는 이후로 모든것을 의미한다.  "
      ],
      "metadata": {
        "id": "MYZ6s1xA6Rgi"
      }
    },
    {
      "cell_type": "code",
      "source": [
        "#b[0] = b[0,:,:] = b[0,...]\n",
        "b[0]  #생략기법\n",
        "b[0,:,:] #slicing 기법\n",
        "b[0,...] #ellipsis 기법"
      ],
      "metadata": {
        "colab": {
          "base_uri": "https://localhost:8080/"
        },
        "id": "vBseKNog6Ywy",
        "outputId": "7bee3ec3-8cd2-406a-8e34-44efeeca04ff"
      },
      "execution_count": 247,
      "outputs": [
        {
          "output_type": "execute_result",
          "data": {
            "text/plain": [
              "array([[ 0,  1,  2,  3],\n",
              "       [ 4,  5,  6,  7],\n",
              "       [ 8,  9, 10, 11]])"
            ]
          },
          "metadata": {},
          "execution_count": 247
        }
      ]
    },
    {
      "cell_type": "code",
      "source": [
        "type(...)"
      ],
      "metadata": {
        "colab": {
          "base_uri": "https://localhost:8080/"
        },
        "id": "11PH4cfH51NS",
        "outputId": "3acc5c97-d6ee-4e35-e934-98d35c0524aa"
      },
      "execution_count": 245,
      "outputs": [
        {
          "output_type": "execute_result",
          "data": {
            "text/plain": [
              "ellipsis"
            ]
          },
          "metadata": {},
          "execution_count": 245
        }
      ]
    },
    {
      "cell_type": "code",
      "source": [
        "#숫자 1,5,9 만 가져온다 .\n",
        "b [0,:,1]"
      ],
      "metadata": {
        "colab": {
          "base_uri": "https://localhost:8080/"
        },
        "id": "0qXiViva7Bk7",
        "outputId": "92f883e7-bf51-41f1-aab4-46648b4d6b66"
      },
      "execution_count": 253,
      "outputs": [
        {
          "output_type": "execute_result",
          "data": {
            "text/plain": [
              "array([1, 5, 9])"
            ]
          },
          "metadata": {},
          "execution_count": 253
        }
      ]
    },
    {
      "cell_type": "code",
      "source": [
        "b[[0],:,[1]]"
      ],
      "metadata": {
        "colab": {
          "base_uri": "https://localhost:8080/"
        },
        "id": "DBVOy7267U9D",
        "outputId": "2592433f-abec-4fcd-8909-9173be86d81c"
      },
      "execution_count": 256,
      "outputs": [
        {
          "output_type": "execute_result",
          "data": {
            "text/plain": [
              "array([[1, 5, 9]])"
            ]
          },
          "metadata": {},
          "execution_count": 256
        }
      ]
    },
    {
      "cell_type": "code",
      "source": [
        "#숫자 1,3,9,3,7,11 가져오기"
      ],
      "metadata": {
        "id": "aZ3VPcNu7hXG"
      },
      "execution_count": 257,
      "outputs": []
    },
    {
      "cell_type": "code",
      "source": [
        "b[0,:,[1,3]]"
      ],
      "metadata": {
        "colab": {
          "base_uri": "https://localhost:8080/"
        },
        "id": "TM4KD-UE7k88",
        "outputId": "6f3a531d-9974-432f-8814-23dc9174b9f8"
      },
      "execution_count": 260,
      "outputs": [
        {
          "output_type": "execute_result",
          "data": {
            "text/plain": [
              "array([[ 1,  5,  9],\n",
              "       [ 3,  7, 11]])"
            ]
          },
          "metadata": {},
          "execution_count": 260
        }
      ]
    },
    {
      "cell_type": "code",
      "source": [
        "# 숫자 4,5,6,7,16,17,18,19 가져오기\n",
        "b[:,1,:]   # 2차원으로 가져옴"
      ],
      "metadata": {
        "colab": {
          "base_uri": "https://localhost:8080/"
        },
        "id": "HtZoAjAf735C",
        "outputId": "6e2c923a-f13c-445e-aa9d-388b351a00b4"
      },
      "execution_count": 269,
      "outputs": [
        {
          "output_type": "execute_result",
          "data": {
            "text/plain": [
              "array([[ 4,  5,  6,  7],\n",
              "       [16, 17, 18, 19]])"
            ]
          },
          "metadata": {},
          "execution_count": 269
        }
      ]
    },
    {
      "cell_type": "code",
      "source": [
        "b[:,1:2,:]    #3차원으로 가져옴"
      ],
      "metadata": {
        "colab": {
          "base_uri": "https://localhost:8080/"
        },
        "id": "O9YDGjhI8WjI",
        "outputId": "acfc2b67-3e9e-44b8-afdf-c2474b1d5ce4"
      },
      "execution_count": 271,
      "outputs": [
        {
          "output_type": "execute_result",
          "data": {
            "text/plain": [
              "array([[[ 4,  5,  6,  7]],\n",
              "\n",
              "       [[16, 17, 18, 19]]])"
            ]
          },
          "metadata": {},
          "execution_count": 271
        }
      ]
    },
    {
      "cell_type": "code",
      "source": [
        "# 숫자 3,7,11,15,19,23 가져오기\n",
        "\n",
        "b[:,:,3]\n",
        "b[:,:,-1]"
      ],
      "metadata": {
        "colab": {
          "base_uri": "https://localhost:8080/"
        },
        "id": "GCZSLa0k8p9S",
        "outputId": "ed29bfbe-13ca-4acd-b249-b0c5b651c2bb"
      },
      "execution_count": 279,
      "outputs": [
        {
          "output_type": "execute_result",
          "data": {
            "text/plain": [
              "array([[ 3,  7, 11],\n",
              "       [15, 19, 23]])"
            ]
          },
          "metadata": {},
          "execution_count": 279
        }
      ]
    },
    {
      "cell_type": "code",
      "source": [
        "b[:,:,3:4]  #3차원 그대로 가져옴"
      ],
      "metadata": {
        "colab": {
          "base_uri": "https://localhost:8080/"
        },
        "id": "hzadc48W9Jvb",
        "outputId": "0a6f925e-5115-4a32-f417-424ef8876081"
      },
      "execution_count": 282,
      "outputs": [
        {
          "output_type": "execute_result",
          "data": {
            "text/plain": [
              "array([[[ 3],\n",
              "        [ 7],\n",
              "        [11]],\n",
              "\n",
              "       [[15],\n",
              "        [19],\n",
              "        [23]]])"
            ]
          },
          "metadata": {},
          "execution_count": 282
        }
      ]
    },
    {
      "cell_type": "code",
      "source": [
        "b[:,:,[3]]  #3차원으로 가져옴"
      ],
      "metadata": {
        "colab": {
          "base_uri": "https://localhost:8080/"
        },
        "id": "yrA4tvPY9bdV",
        "outputId": "d15aea61-7f98-4ae3-e529-303b42fedad7"
      },
      "execution_count": 285,
      "outputs": [
        {
          "output_type": "execute_result",
          "data": {
            "text/plain": [
              "array([[[ 3],\n",
              "        [ 7],\n",
              "        [11]],\n",
              "\n",
              "       [[15],\n",
              "        [19],\n",
              "        [23]]])"
            ]
          },
          "metadata": {},
          "execution_count": 285
        }
      ]
    },
    {
      "cell_type": "code",
      "source": [
        "b[...,3]"
      ],
      "metadata": {
        "colab": {
          "base_uri": "https://localhost:8080/"
        },
        "id": "rQxG59WH9gM7",
        "outputId": "eac4ae6b-d885-4681-af17-fe6b7d9c2493"
      },
      "execution_count": 286,
      "outputs": [
        {
          "output_type": "execute_result",
          "data": {
            "text/plain": [
              "array([[ 3,  7, 11],\n",
              "       [15, 19, 23]])"
            ]
          },
          "metadata": {},
          "execution_count": 286
        }
      ]
    },
    {
      "cell_type": "markdown",
      "source": [
        " ## 줄임표현 (...)\n",
        "  출력해야할 데이터수가 엄청 클때 보이는 ... 은 ellipsis와 다르다  \n",
        "\n"
      ],
      "metadata": {
        "id": "W0CIBxG79rx4"
      }
    },
    {
      "cell_type": "code",
      "source": [
        "#out에 나오는 ... 은 단순히 줄임표현이다.\n",
        "np.arange(10000)"
      ],
      "metadata": {
        "colab": {
          "base_uri": "https://localhost:8080/"
        },
        "id": "1L3q0P5y94ed",
        "outputId": "4709b237-de02-4e8b-ec6b-8fd190dc4339"
      },
      "execution_count": 288,
      "outputs": [
        {
          "output_type": "execute_result",
          "data": {
            "text/plain": [
              "array([   0,    1,    2, ..., 9997, 9998, 9999])"
            ]
          },
          "metadata": {},
          "execution_count": 288
        }
      ]
    },
    {
      "cell_type": "code",
      "source": [
        "# ... 양쪽으로 출력갯수 지정\n",
        "np.set_printoptions(edgeitems=6)"
      ],
      "metadata": {
        "id": "JAZwC9vC-KS0"
      },
      "execution_count": 290,
      "outputs": []
    },
    {
      "cell_type": "code",
      "source": [
        "np.arange(10000)"
      ],
      "metadata": {
        "colab": {
          "base_uri": "https://localhost:8080/"
        },
        "id": "RmhyHLYn-O91",
        "outputId": "0b749830-02b2-4d87-94ca-f8a4ebd82f89"
      },
      "execution_count": 293,
      "outputs": [
        {
          "output_type": "execute_result",
          "data": {
            "text/plain": [
              "array([   0,    1,    2,    3,    4,    5, ..., 9994, 9995, 9996, 9997,\n",
              "       9998, 9999])"
            ]
          },
          "metadata": {},
          "execution_count": 293
        }
      ]
    },
    {
      "cell_type": "markdown",
      "source": [
        "## 연산\n",
        "numpy연산의 기본은 두개의 shape가 같아야 한다.\n"
      ],
      "metadata": {
        "id": "bytXLZKU-suX"
      }
    },
    {
      "cell_type": "code",
      "source": [
        "a= np.arange(1,13).reshape(3,4)\n",
        "a"
      ],
      "metadata": {
        "colab": {
          "base_uri": "https://localhost:8080/"
        },
        "id": "_yajwR4j_Ow9",
        "outputId": "12d198af-9b20-4fd9-8269-56b5cb106a55"
      },
      "execution_count": 303,
      "outputs": [
        {
          "output_type": "execute_result",
          "data": {
            "text/plain": [
              "array([[ 1,  2,  3,  4],\n",
              "       [ 5,  6,  7,  8],\n",
              "       [ 9, 10, 11, 12]])"
            ]
          },
          "metadata": {},
          "execution_count": 303
        }
      ]
    },
    {
      "cell_type": "code",
      "source": [
        "b= np.arange(1,13).reshape(3,4)\n",
        "b"
      ],
      "metadata": {
        "colab": {
          "base_uri": "https://localhost:8080/"
        },
        "id": "N8VD3Reg-ytU",
        "outputId": "a2e39167-2213-4741-f353-433e2fe10461"
      },
      "execution_count": 297,
      "outputs": [
        {
          "output_type": "execute_result",
          "data": {
            "text/plain": [
              "array([[ 1,  2,  3,  4],\n",
              "       [ 5,  6,  7,  8],\n",
              "       [ 9, 10, 11, 12]])"
            ]
          },
          "metadata": {},
          "execution_count": 297
        }
      ]
    },
    {
      "cell_type": "code",
      "source": [
        "b.shape"
      ],
      "metadata": {
        "colab": {
          "base_uri": "https://localhost:8080/"
        },
        "id": "3maY17r3_IYt",
        "outputId": "3cdf5cfd-6eca-48bf-b103-7ec43f2520c9"
      },
      "execution_count": 299,
      "outputs": [
        {
          "output_type": "execute_result",
          "data": {
            "text/plain": [
              "(3, 4)"
            ]
          },
          "metadata": {},
          "execution_count": 299
        }
      ]
    },
    {
      "cell_type": "code",
      "source": [
        "#같은 위치의 원소끼리 더해준다\n",
        "a+b"
      ],
      "metadata": {
        "colab": {
          "base_uri": "https://localhost:8080/"
        },
        "id": "WGUlBK2J_JwN",
        "outputId": "3a5614a0-f50b-4107-add7-c4d5d64088a3"
      },
      "execution_count": 306,
      "outputs": [
        {
          "output_type": "execute_result",
          "data": {
            "text/plain": [
              "array([[ 2,  4,  6,  8],\n",
              "       [10, 12, 14, 16],\n",
              "       [18, 20, 22, 24]])"
            ]
          },
          "metadata": {},
          "execution_count": 306
        }
      ]
    },
    {
      "cell_type": "markdown",
      "source": [
        "numpy는 elementwise vectorize 연산을 한다.   \n",
        "vectorze는 데이터의 연산을 일괄적으로 처리하는 기능이다.   \n"
      ],
      "metadata": {
        "id": "x8yUmYsp-ssG"
      }
    },
    {
      "cell_type": "code",
      "source": [
        "#python의 list에서 + 연산자는 elementwise가 아니라 list를 확장시킨다. (연결 )\n",
        "\n",
        "[1,2,3]+[4,5,6]"
      ],
      "metadata": {
        "colab": {
          "base_uri": "https://localhost:8080/"
        },
        "id": "E-Ji7NuDDo_x",
        "outputId": "6b3f22e3-bc22-4016-e91f-ca1f769e0aa6"
      },
      "execution_count": 308,
      "outputs": [
        {
          "output_type": "execute_result",
          "data": {
            "text/plain": [
              "[1, 2, 3, 4, 5, 6]"
            ]
          },
          "metadata": {},
          "execution_count": 308
        }
      ]
    },
    {
      "cell_type": "code",
      "source": [
        "@np.vectorize\n",
        "\n",
        "def plus(a,b):\n",
        "  return a+b\n",
        "\n",
        "plus([1,2,3],[4,5,6])"
      ],
      "metadata": {
        "colab": {
          "base_uri": "https://localhost:8080/"
        },
        "id": "-779l_0MD7Mu",
        "outputId": "f5783625-c1fb-4200-9b75-c42c421a6cb3"
      },
      "execution_count": 310,
      "outputs": [
        {
          "output_type": "execute_result",
          "data": {
            "text/plain": [
              "[1, 2, 3, 4, 5, 6]"
            ]
          },
          "metadata": {},
          "execution_count": 310
        }
      ]
    },
    {
      "cell_type": "code",
      "source": [
        "a = np.arange(6).reshape(2,3)\n",
        "a\n"
      ],
      "metadata": {
        "colab": {
          "base_uri": "https://localhost:8080/"
        },
        "id": "-p2DpkrvETb7",
        "outputId": "f3f1305a-d624-42f7-b430-26b981355137"
      },
      "execution_count": 311,
      "outputs": [
        {
          "output_type": "execute_result",
          "data": {
            "text/plain": [
              "array([[0, 1, 2],\n",
              "       [3, 4, 5]])"
            ]
          },
          "metadata": {},
          "execution_count": 311
        }
      ]
    },
    {
      "cell_type": "code",
      "source": [
        "b = np.arange(6,12).reshape(2,3)\n",
        "b"
      ],
      "metadata": {
        "colab": {
          "base_uri": "https://localhost:8080/"
        },
        "id": "lVYPnUNwEgsk",
        "outputId": "a875aeeb-c87a-49bc-9d32-a1b02971b473"
      },
      "execution_count": 313,
      "outputs": [
        {
          "output_type": "execute_result",
          "data": {
            "text/plain": [
              "array([[ 6,  7,  8],\n",
              "       [ 9, 10, 11]])"
            ]
          },
          "metadata": {},
          "execution_count": 313
        }
      ]
    },
    {
      "cell_type": "code",
      "source": [
        "a*b"
      ],
      "metadata": {
        "colab": {
          "base_uri": "https://localhost:8080/"
        },
        "id": "uEgZNkwPEjIC",
        "outputId": "461a43aa-7df0-4b71-db73-c5cbb3d10462"
      },
      "execution_count": 314,
      "outputs": [
        {
          "output_type": "execute_result",
          "data": {
            "text/plain": [
              "array([[ 0,  7, 16],\n",
              "       [27, 40, 55]])"
            ]
          },
          "metadata": {},
          "execution_count": 314
        }
      ]
    },
    {
      "cell_type": "code",
      "source": [
        "#python에서 list끼리 *(곱하기)를 할수없다\n",
        "#[1,2,3] * [4,5,6]"
      ],
      "metadata": {
        "id": "6IDefVmwE0tY"
      },
      "execution_count": 316,
      "outputs": []
    },
    {
      "cell_type": "code",
      "source": [
        "c = np.matrix([[1,2],[3,4]])\n",
        "c"
      ],
      "metadata": {
        "colab": {
          "base_uri": "https://localhost:8080/"
        },
        "id": "79v-Hl-9E8Cg",
        "outputId": "fafc1ecc-c5b5-4d00-aed3-cde5c638008e"
      },
      "execution_count": 317,
      "outputs": [
        {
          "output_type": "execute_result",
          "data": {
            "text/plain": [
              "matrix([[1, 2],\n",
              "        [3, 4]])"
            ]
          },
          "metadata": {},
          "execution_count": 317
        }
      ]
    },
    {
      "cell_type": "code",
      "source": [
        "type(c)"
      ],
      "metadata": {
        "colab": {
          "base_uri": "https://localhost:8080/"
        },
        "id": "KQkU12SrE0rS",
        "outputId": "da724b76-8677-4244-8298-af2ac773a7de"
      },
      "execution_count": 319,
      "outputs": [
        {
          "output_type": "execute_result",
          "data": {
            "text/plain": [
              "numpy.matrix"
            ]
          },
          "metadata": {},
          "execution_count": 319
        }
      ]
    },
    {
      "cell_type": "code",
      "source": [
        "print(c)\n",
        "c*c\n",
        "\n",
        "# 1*1 + 2*3 = 7 , 1*2+2*4 = 10\n",
        "# 3*1 + 4*3 = 15 , 3*2+4*4 = 22\n",
        "\n",
        "# 1*1 + 2*3 , 1*2+2*4    [[7,10]]\n",
        "# 3*1 + 4*3 , 3*2+4*4    [[15,22]]\n",
        "\n",
        "# (2,2) (2,2)  #앞의 행과 뒤의 열의 갯수가 같아야 한다."
      ],
      "metadata": {
        "colab": {
          "base_uri": "https://localhost:8080/"
        },
        "id": "VRZ2V0bBFiGZ",
        "outputId": "47ffaad3-04c0-43e6-b355-5544d782ba36"
      },
      "execution_count": 321,
      "outputs": [
        {
          "output_type": "stream",
          "name": "stdout",
          "text": [
            "[[1 2]\n",
            " [3 4]]\n"
          ]
        },
        {
          "output_type": "execute_result",
          "data": {
            "text/plain": [
              "matrix([[ 7, 10],\n",
              "        [15, 22]])"
            ]
          },
          "metadata": {},
          "execution_count": 321
        }
      ]
    },
    {
      "cell_type": "markdown",
      "source": [
        "ndarray 에서 행렬곱 연산자 @이다.\n",
        "python 재단에서 numpy를 위해 만들어준 연산자이다.   "
      ],
      "metadata": {
        "id": "BDdLbTFuHg3k"
      }
    },
    {
      "cell_type": "markdown",
      "source": [
        "행렬곱을 하기 위해서는 shape가 맞아야 한다.\n",
        "T는 transpose(전치)의 약자이다.   "
      ],
      "metadata": {
        "id": "3cTUb7NJIUN1"
      }
    },
    {
      "cell_type": "code",
      "source": [
        "print(a)\n",
        "print(a.shape)"
      ],
      "metadata": {
        "colab": {
          "base_uri": "https://localhost:8080/"
        },
        "id": "cDtGsc3AIkM5",
        "outputId": "46396e56-00cf-4dd0-e972-2c120d3da383"
      },
      "execution_count": 323,
      "outputs": [
        {
          "output_type": "stream",
          "name": "stdout",
          "text": [
            "[[0 1 2]\n",
            " [3 4 5]]\n",
            "(2, 3)\n"
          ]
        }
      ]
    },
    {
      "cell_type": "code",
      "source": [
        "print(a.T)\n",
        "print(a.T.shape)\n",
        "\n",
        "# (3,4)(4,2) => 결과 (3,2)\n",
        "# (2,3)(3,5) => 결과 (2,5)\n",
        "# (1000, 7) (7, 3) => 결과 (1000, 3)"
      ],
      "metadata": {
        "colab": {
          "base_uri": "https://localhost:8080/"
        },
        "id": "R2TGc3MaIm-D",
        "outputId": "7cb14c72-a7fe-4cbd-c531-c37f7e2f1ed6"
      },
      "execution_count": 325,
      "outputs": [
        {
          "output_type": "stream",
          "name": "stdout",
          "text": [
            "[[0 3]\n",
            " [1 4]\n",
            " [2 5]]\n",
            "(3, 2)\n"
          ]
        }
      ]
    },
    {
      "cell_type": "code",
      "source": [
        "a @ a.T"
      ],
      "metadata": {
        "colab": {
          "base_uri": "https://localhost:8080/"
        },
        "id": "y8Qx_nvDI-0N",
        "outputId": "39eb6085-6466-4d1d-bc8d-945dae000525"
      },
      "execution_count": 326,
      "outputs": [
        {
          "output_type": "execute_result",
          "data": {
            "text/plain": [
              "array([[ 5, 14],\n",
              "       [14, 50]])"
            ]
          },
          "metadata": {},
          "execution_count": 326
        }
      ]
    },
    {
      "cell_type": "code",
      "source": [
        "a= np.arange(1,17).reshape(1,16)\n",
        "a"
      ],
      "metadata": {
        "colab": {
          "base_uri": "https://localhost:8080/"
        },
        "id": "MSyfxtq7KljR",
        "outputId": "0befd85d-6160-4ac8-8502-822126d51109"
      },
      "execution_count": 335,
      "outputs": [
        {
          "output_type": "execute_result",
          "data": {
            "text/plain": [
              "array([[ 1,  2,  3,  4,  5,  6,  7,  8,  9, 10, 11, 12, 13, 14, 15, 16]])"
            ]
          },
          "metadata": {},
          "execution_count": 335
        }
      ]
    },
    {
      "cell_type": "code",
      "source": [
        "print(a.shape)            # (1,16)\n",
        "print(a.T.shape)          #(16,1)\n",
        "a @ a.T                 # 결과 (1,1)"
      ],
      "metadata": {
        "colab": {
          "base_uri": "https://localhost:8080/"
        },
        "id": "hZuvYMDEK5cs",
        "outputId": "41e8a997-2152-4079-969e-460e5f194fde"
      },
      "execution_count": 337,
      "outputs": [
        {
          "output_type": "stream",
          "name": "stdout",
          "text": [
            "(1, 16)\n",
            "(16, 1)\n"
          ]
        },
        {
          "output_type": "execute_result",
          "data": {
            "text/plain": [
              "array([[1496]])"
            ]
          },
          "metadata": {},
          "execution_count": 337
        }
      ]
    },
    {
      "cell_type": "markdown",
      "source": [
        "matrix는 * 와 @ 모두가 가능하다."
      ],
      "metadata": {
        "id": "a3c3VfBqLYOS"
      }
    },
    {
      "cell_type": "code",
      "source": [
        "c * c.T"
      ],
      "metadata": {
        "colab": {
          "base_uri": "https://localhost:8080/"
        },
        "id": "AjJj8AslKlhe",
        "outputId": "63c8ed54-4916-4cae-a152-3dd8f56f8b2a"
      },
      "execution_count": 339,
      "outputs": [
        {
          "output_type": "execute_result",
          "data": {
            "text/plain": [
              "matrix([[ 5, 11],\n",
              "        [11, 25]])"
            ]
          },
          "metadata": {},
          "execution_count": 339
        }
      ]
    },
    {
      "cell_type": "code",
      "source": [
        "c @ c.T"
      ],
      "metadata": {
        "colab": {
          "base_uri": "https://localhost:8080/"
        },
        "id": "TlNqXxxFL7u0",
        "outputId": "e6649764-1df0-47df-a51c-913b374b148c"
      },
      "execution_count": 341,
      "outputs": [
        {
          "output_type": "execute_result",
          "data": {
            "text/plain": [
              "matrix([[ 5, 11],\n",
              "        [11, 25]])"
            ]
          },
          "metadata": {},
          "execution_count": 341
        }
      ]
    },
    {
      "cell_type": "code",
      "source": [
        "print(type(a))\n",
        "np.dot(a, a.T)"
      ],
      "metadata": {
        "colab": {
          "base_uri": "https://localhost:8080/"
        },
        "id": "SgAXaZO5L-aE",
        "outputId": "4db86c02-bfe4-4149-acde-1c8f127a5844"
      },
      "execution_count": 346,
      "outputs": [
        {
          "output_type": "stream",
          "name": "stdout",
          "text": [
            "<class 'numpy.ndarray'>\n"
          ]
        },
        {
          "output_type": "execute_result",
          "data": {
            "text/plain": [
              "array([[1496]])"
            ]
          },
          "metadata": {},
          "execution_count": 346
        }
      ]
    },
    {
      "cell_type": "code",
      "source": [
        "print(type(c))\n",
        "np.dot(c, c.T)"
      ],
      "metadata": {
        "colab": {
          "base_uri": "https://localhost:8080/"
        },
        "id": "H2uDSleZMC09",
        "outputId": "a2840a7a-23b0-447f-d3ad-757337712825"
      },
      "execution_count": 347,
      "outputs": [
        {
          "output_type": "stream",
          "name": "stdout",
          "text": [
            "<class 'numpy.matrix'>\n"
          ]
        },
        {
          "output_type": "execute_result",
          "data": {
            "text/plain": [
              "matrix([[ 5, 11],\n",
              "        [11, 25]])"
            ]
          },
          "metadata": {},
          "execution_count": 347
        }
      ]
    },
    {
      "cell_type": "markdown",
      "source": [
        "\n",
        "* : matrix  \n",
        "@ : matrix , adarray  \n",
        "dot() : matrix, adarray   \n",
        "\n",
        "\n"
      ],
      "metadata": {
        "id": "eW_wpb_gHg1g"
      }
    },
    {
      "cell_type": "markdown",
      "source": [
        "method 방식으로 행렬곱 할 수 있다.   \n",
        "function 방법과 사용하는 방법이 다르므로 주의한다.  "
      ],
      "metadata": {
        "id": "07g5r52LNAyL"
      }
    },
    {
      "cell_type": "code",
      "source": [
        "np. dot (c,c.T)"
      ],
      "metadata": {
        "colab": {
          "base_uri": "https://localhost:8080/"
        },
        "id": "qjgCDItkKPXh",
        "outputId": "ffe2c31f-db42-4ea2-e27c-a31178f43fde"
      },
      "execution_count": 348,
      "outputs": [
        {
          "output_type": "execute_result",
          "data": {
            "text/plain": [
              "matrix([[ 5, 11],\n",
              "        [11, 25]])"
            ]
          },
          "metadata": {},
          "execution_count": 348
        }
      ]
    },
    {
      "cell_type": "code",
      "source": [
        "c.dot (c.T)"
      ],
      "metadata": {
        "colab": {
          "base_uri": "https://localhost:8080/"
        },
        "id": "EVv-eusUNHJs",
        "outputId": "4f3d8345-cd0d-47bc-c358-f049959606ba"
      },
      "execution_count": 349,
      "outputs": [
        {
          "output_type": "execute_result",
          "data": {
            "text/plain": [
              "matrix([[ 5, 11],\n",
              "        [11, 25]])"
            ]
          },
          "metadata": {},
          "execution_count": 349
        }
      ]
    },
    {
      "cell_type": "markdown",
      "source": [
        "##strides\n",
        "\n",
        "strides는 다음 원소끼리의 메모리크기를 차원별로 알려준다.   \n",
        "C의 포인터 개념을 알고 있으면 이해하기가 쉽다.\n"
      ],
      "metadata": {
        "id": "sfu5sVABQ5ZN"
      }
    },
    {
      "cell_type": "code",
      "source": [
        "a= np.arange(12).reshape(3,4)\n",
        "a"
      ],
      "metadata": {
        "colab": {
          "base_uri": "https://localhost:8080/"
        },
        "id": "bJ2QV9MfRCGA",
        "outputId": "1e44fa48-0bd3-43cd-ee0d-9e91f3321e8f"
      },
      "execution_count": 352,
      "outputs": [
        {
          "output_type": "execute_result",
          "data": {
            "text/plain": [
              "array([[ 0,  1,  2,  3],\n",
              "       [ 4,  5,  6,  7],\n",
              "       [ 8,  9, 10, 11]])"
            ]
          },
          "metadata": {},
          "execution_count": 352
        }
      ]
    },
    {
      "cell_type": "code",
      "source": [
        "# 행의 메모리 간격은 32 bytes\n",
        "# 열의 메모리 간격은 8 bytes\n",
        "a.strides"
      ],
      "metadata": {
        "colab": {
          "base_uri": "https://localhost:8080/"
        },
        "id": "8ZjUUsI1RIqA",
        "outputId": "c152df7f-e076-4e94-d10b-f2514a1a670d"
      },
      "execution_count": 354,
      "outputs": [
        {
          "output_type": "execute_result",
          "data": {
            "text/plain": [
              "(32, 8)"
            ]
          },
          "metadata": {},
          "execution_count": 354
        }
      ]
    },
    {
      "cell_type": "code",
      "source": [
        "a.itemsize"
      ],
      "metadata": {
        "colab": {
          "base_uri": "https://localhost:8080/"
        },
        "id": "cp2yiyRNSHnK",
        "outputId": "d0c6655b-8e1b-4d69-9835-ec4cbc4df1ba"
      },
      "execution_count": 356,
      "outputs": [
        {
          "output_type": "execute_result",
          "data": {
            "text/plain": [
              "8"
            ]
          },
          "metadata": {},
          "execution_count": 356
        }
      ]
    },
    {
      "cell_type": "code",
      "source": [
        "#열의 원소 갯수 * itemsize = 행의메모리간격\n",
        "# itemsize = 열의 메모리 간격\n",
        "a.shape"
      ],
      "metadata": {
        "id": "JfkxzPTTSJoB"
      },
      "execution_count": null,
      "outputs": []
    },
    {
      "cell_type": "markdown",
      "source": [
        "## axis\n",
        "axis는 다차원 배열을 연산할때 기준이 되는 축이다.  "
      ],
      "metadata": {
        "id": "tc7XcWupSWlv"
      }
    },
    {
      "cell_type": "code",
      "source": [
        "a"
      ],
      "metadata": {
        "colab": {
          "base_uri": "https://localhost:8080/"
        },
        "id": "ab1b-GqTSepq",
        "outputId": "25e9f62c-2068-4b6b-de82-1bac35a0250c"
      },
      "execution_count": 358,
      "outputs": [
        {
          "output_type": "execute_result",
          "data": {
            "text/plain": [
              "array([[ 0,  1,  2,  3],\n",
              "       [ 4,  5,  6,  7],\n",
              "       [ 8,  9, 10, 11]])"
            ]
          },
          "metadata": {},
          "execution_count": 358
        }
      ]
    },
    {
      "cell_type": "code",
      "source": [
        "np.sum(a)"
      ],
      "metadata": {
        "colab": {
          "base_uri": "https://localhost:8080/"
        },
        "id": "EgwsyXOBSkFy",
        "outputId": "953277d4-2e4d-45e6-9af3-e72ecc832d69"
      },
      "execution_count": 360,
      "outputs": [
        {
          "output_type": "execute_result",
          "data": {
            "text/plain": [
              "66"
            ]
          },
          "metadata": {},
          "execution_count": 360
        }
      ]
    },
    {
      "cell_type": "code",
      "source": [
        "np.sum(a, axis=0) # a 배열은 2차원이므로 axis=0은 행기준 (행마다)\n",
        "np.sum(a, axis=1)                       #axis=1은 열기준 (열마다)"
      ],
      "metadata": {
        "colab": {
          "base_uri": "https://localhost:8080/"
        },
        "id": "FFLGcGIuSndK",
        "outputId": "27765f9d-de6d-4c0d-fc8c-9db8e7234550"
      },
      "execution_count": 370,
      "outputs": [
        {
          "output_type": "execute_result",
          "data": {
            "text/plain": [
              "array([ 6, 22, 38])"
            ]
          },
          "metadata": {},
          "execution_count": 370
        }
      ]
    },
    {
      "cell_type": "markdown",
      "source": [
        "```\n",
        "(0,0) (0,1) (0,2) (0,3)\n",
        "(1,0) (0,1) (0,2) (1,3)\n",
        "(2,0) (2,1) (2,2) (2,3)\n",
        "\n",
        "\n",
        "```\n"
      ],
      "metadata": {
        "id": "3cmXcE5ZQ5W0"
      }
    },
    {
      "cell_type": "code",
      "source": [
        "a = np.arange(24).reshape(2,3,4) #2공간 3행 4열\n",
        "a"
      ],
      "metadata": {
        "id": "OLwNqJ5yVBLt"
      },
      "execution_count": null,
      "outputs": []
    },
    {
      "cell_type": "markdown",
      "source": [
        "```\n",
        "(0,0,0) (0,0,1) (0,0,2) (0,0,3)\n",
        "(0,1,0) (0,1,1) (0,1,2) (0,1,3)\n",
        "(0,2,0) (0,2,1) (0,2,2) (0,2,3)\n",
        "\n",
        "(1,0,0) (1,0,1) (1,0,2) (1,0,3)\n",
        "(1,1,0) (1,1,1) (1,1,2) (1,1,3)\n",
        "(1,2,0) (1,2,1) (1,2,2) (1,2,3)\n",
        "```"
      ],
      "metadata": {
        "id": "rq6788kdVC6d"
      }
    },
    {
      "cell_type": "code",
      "source": [
        "a"
      ],
      "metadata": {
        "colab": {
          "base_uri": "https://localhost:8080/"
        },
        "id": "48LkjXhfV1EN",
        "outputId": "f6e64d90-a01b-4a75-da5e-fa0f5273e70b"
      },
      "execution_count": 377,
      "outputs": [
        {
          "output_type": "execute_result",
          "data": {
            "text/plain": [
              "array([[[ 0,  1,  2,  3],\n",
              "        [ 4,  5,  6,  7],\n",
              "        [ 8,  9, 10, 11]],\n",
              "\n",
              "       [[12, 13, 14, 15],\n",
              "        [16, 17, 18, 19],\n",
              "        [20, 21, 22, 23]]])"
            ]
          },
          "metadata": {},
          "execution_count": 377
        }
      ]
    },
    {
      "cell_type": "code",
      "source": [
        "np.sum(a)  #(2,3,4) => (1,)"
      ],
      "metadata": {
        "colab": {
          "base_uri": "https://localhost:8080/"
        },
        "id": "7RiUkqgHVdft",
        "outputId": "612a26ba-f3b3-41cc-b5d4-247cb240b4da"
      },
      "execution_count": 374,
      "outputs": [
        {
          "output_type": "execute_result",
          "data": {
            "text/plain": [
              "276"
            ]
          },
          "metadata": {},
          "execution_count": 374
        }
      ]
    },
    {
      "cell_type": "code",
      "source": [
        "np.sum(a, axis=0)    # #(2,3,4) => (3,4)"
      ],
      "metadata": {
        "colab": {
          "base_uri": "https://localhost:8080/"
        },
        "id": "ZPRoYjeOVfcL",
        "outputId": "3264951f-af12-40bc-999b-4b39dde7dc37"
      },
      "execution_count": 376,
      "outputs": [
        {
          "output_type": "execute_result",
          "data": {
            "text/plain": [
              "array([[12, 14, 16, 18],\n",
              "       [20, 22, 24, 26],\n",
              "       [28, 30, 32, 34]])"
            ]
          },
          "metadata": {},
          "execution_count": 376
        }
      ]
    },
    {
      "cell_type": "code",
      "source": [
        "np.sum(a, axis=1)  # #(2,3,4) => (2,4)"
      ],
      "metadata": {
        "colab": {
          "base_uri": "https://localhost:8080/"
        },
        "id": "QqoSnBa6WRt1",
        "outputId": "3c8af647-7a25-4aab-eaf4-f11b6140bf4d"
      },
      "execution_count": 379,
      "outputs": [
        {
          "output_type": "execute_result",
          "data": {
            "text/plain": [
              "array([[12, 15, 18, 21],\n",
              "       [48, 51, 54, 57]])"
            ]
          },
          "metadata": {},
          "execution_count": 379
        }
      ]
    },
    {
      "cell_type": "code",
      "source": [
        "np.sum(a, axis=2)  # #(2,3,4) => (2,3)"
      ],
      "metadata": {
        "colab": {
          "base_uri": "https://localhost:8080/"
        },
        "id": "4q34SrJRXHVg",
        "outputId": "0701dcc8-d9b4-4d2f-acdc-3d731f8c5d17"
      },
      "execution_count": 380,
      "outputs": [
        {
          "output_type": "execute_result",
          "data": {
            "text/plain": [
              "array([[ 6, 22, 38],\n",
              "       [54, 70, 86]])"
            ]
          },
          "metadata": {},
          "execution_count": 380
        }
      ]
    },
    {
      "cell_type": "markdown",
      "source": [
        "## array 모양 바꾸기\n"
      ],
      "metadata": {
        "id": "6HuDJ72EZ767"
      }
    },
    {
      "cell_type": "markdown",
      "source": [
        "(1)reshape\n",
        "reshape는 차원을 바꿔주는 기능을 한다."
      ],
      "metadata": {
        "id": "La5th_g-Z-_A"
      }
    },
    {
      "cell_type": "code",
      "source": [
        "a = np.arange(24)\n",
        "a"
      ],
      "metadata": {
        "colab": {
          "base_uri": "https://localhost:8080/"
        },
        "id": "1QuMBwP6aCNG",
        "outputId": "9776ebf1-9786-4235-e6b9-b59cdbed8477"
      },
      "execution_count": 381,
      "outputs": [
        {
          "output_type": "execute_result",
          "data": {
            "text/plain": [
              "array([ 0,  1,  2,  3,  4,  5,  6,  7,  8,  9, 10, 11, 12, 13, 14, 15, 16,\n",
              "       17, 18, 19, 20, 21, 22, 23])"
            ]
          },
          "metadata": {},
          "execution_count": 381
        }
      ]
    },
    {
      "cell_type": "code",
      "source": [
        "b = a.reshape(3,8)\n",
        "b"
      ],
      "metadata": {
        "colab": {
          "base_uri": "https://localhost:8080/"
        },
        "id": "k3FeE2L6Z7Vb",
        "outputId": "97cedf83-7405-4e84-c16b-2b29563b96b3"
      },
      "execution_count": 383,
      "outputs": [
        {
          "output_type": "execute_result",
          "data": {
            "text/plain": [
              "array([[ 0,  1,  2,  3,  4,  5,  6,  7],\n",
              "       [ 8,  9, 10, 11, 12, 13, 14, 15],\n",
              "       [16, 17, 18, 19, 20, 21, 22, 23]])"
            ]
          },
          "metadata": {},
          "execution_count": 383
        }
      ]
    },
    {
      "cell_type": "code",
      "source": [
        "#value error => 크기가 맞게 () 안의 숫자를 조정해줘야함\n",
        "b= a.reshape(2,3,4)\n",
        "b"
      ],
      "metadata": {
        "colab": {
          "base_uri": "https://localhost:8080/"
        },
        "id": "dqJJQ7NDZ7To",
        "outputId": "399a9b01-0d5c-4430-d9a8-cf34e3e83897"
      },
      "execution_count": 387,
      "outputs": [
        {
          "output_type": "execute_result",
          "data": {
            "text/plain": [
              "array([[[ 0,  1,  2,  3],\n",
              "        [ 4,  5,  6,  7],\n",
              "        [ 8,  9, 10, 11]],\n",
              "\n",
              "       [[12, 13, 14, 15],\n",
              "        [16, 17, 18, 19],\n",
              "        [20, 21, 22, 23]]])"
            ]
          },
          "metadata": {},
          "execution_count": 387
        }
      ]
    },
    {
      "cell_type": "code",
      "source": [
        "# 음수를 쓰면 알아서 shape를 맞춘다\n",
        "#음수값은 아무거나 상관없다 .\n",
        "b = a.reshape(2,3,-1)\n",
        "b"
      ],
      "metadata": {
        "colab": {
          "base_uri": "https://localhost:8080/"
        },
        "id": "Zzyaeapeaiwf",
        "outputId": "34db11db-7aaa-4a93-a945-12e4b39e88b8"
      },
      "execution_count": 390,
      "outputs": [
        {
          "output_type": "execute_result",
          "data": {
            "text/plain": [
              "array([[[ 0,  1,  2,  3],\n",
              "        [ 4,  5,  6,  7],\n",
              "        [ 8,  9, 10, 11]],\n",
              "\n",
              "       [[12, 13, 14, 15],\n",
              "        [16, 17, 18, 19],\n",
              "        [20, 21, 22, 23]]])"
            ]
          },
          "metadata": {},
          "execution_count": 390
        }
      ]
    },
    {
      "cell_type": "code",
      "source": [
        "b = a.reshape(2,3,-100)\n",
        "b"
      ],
      "metadata": {
        "colab": {
          "base_uri": "https://localhost:8080/"
        },
        "id": "9PK2fzcTayfM",
        "outputId": "7c4041a2-4100-4bcc-d6b2-752b9dc05e1e"
      },
      "execution_count": 391,
      "outputs": [
        {
          "output_type": "execute_result",
          "data": {
            "text/plain": [
              "array([[[ 0,  1,  2,  3],\n",
              "        [ 4,  5,  6,  7],\n",
              "        [ 8,  9, 10, 11]],\n",
              "\n",
              "       [[12, 13, 14, 15],\n",
              "        [16, 17, 18, 19],\n",
              "        [20, 21, 22, 23]]])"
            ]
          },
          "metadata": {},
          "execution_count": 391
        }
      ]
    },
    {
      "cell_type": "code",
      "source": [
        "b = a.reshape(3,4,-1)\n",
        "b"
      ],
      "metadata": {
        "colab": {
          "base_uri": "https://localhost:8080/"
        },
        "id": "lSSik_L5aydA",
        "outputId": "82aca1b9-cb20-463b-a11a-17a31db6d28f"
      },
      "execution_count": 395,
      "outputs": [
        {
          "output_type": "execute_result",
          "data": {
            "text/plain": [
              "array([[[ 0,  1],\n",
              "        [ 2,  3],\n",
              "        [ 4,  5],\n",
              "        [ 6,  7]],\n",
              "\n",
              "       [[ 8,  9],\n",
              "        [10, 11],\n",
              "        [12, 13],\n",
              "        [14, 15]],\n",
              "\n",
              "       [[16, 17],\n",
              "        [18, 19],\n",
              "        [20, 21],\n",
              "        [22, 23]]])"
            ]
          },
          "metadata": {},
          "execution_count": 395
        }
      ]
    },
    {
      "cell_type": "code",
      "source": [
        "b= a.reshape(3,-1,2)\n",
        "b"
      ],
      "metadata": {
        "colab": {
          "base_uri": "https://localhost:8080/"
        },
        "id": "p9cuPByYfP8h",
        "outputId": "4959a3eb-184c-46d2-be6a-5687deb342b7"
      },
      "execution_count": 396,
      "outputs": [
        {
          "output_type": "execute_result",
          "data": {
            "text/plain": [
              "array([[[ 0,  1],\n",
              "        [ 2,  3],\n",
              "        [ 4,  5],\n",
              "        [ 6,  7]],\n",
              "\n",
              "       [[ 8,  9],\n",
              "        [10, 11],\n",
              "        [12, 13],\n",
              "        [14, 15]],\n",
              "\n",
              "       [[16, 17],\n",
              "        [18, 19],\n",
              "        [20, 21],\n",
              "        [22, 23]]])"
            ]
          },
          "metadata": {},
          "execution_count": 396
        }
      ]
    }
  ]
}